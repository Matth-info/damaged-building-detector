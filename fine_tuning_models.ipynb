{
 "cells": [
  {
   "cell_type": "markdown",
   "metadata": {},
   "source": [
    "# Fined tuning models"
   ]
  },
  {
   "cell_type": "markdown",
   "metadata": {},
   "source": [
    "Goal : From the dataset containing Post Event and Pre Event images with segmentation masks from MS building footprint dataset, we want to build different useful Computer Vision models like a Classifier, an Object detector and an Instance Segmentation model using different techniques like Transfert learning. A labelising work is required to build stronger model on different task. We propose to use Active Learning to find the most relevant items and Conformal prediction on Classification and Segmentation task. "
   ]
  },
  {
   "cell_type": "markdown",
   "metadata": {},
   "source": [
    "Some stats about the data : \n",
    "- more than 10 000 tiles from the raw high quality tiff images. \n"
   ]
  },
  {
   "cell_type": "markdown",
   "metadata": {},
   "source": []
  }
 ],
 "metadata": {
  "kernelspec": {
   "display_name": "base",
   "language": "python",
   "name": "python3"
  },
  "language_info": {
   "name": "python",
   "version": "3.11.8"
  }
 },
 "nbformat": 4,
 "nbformat_minor": 2
}
