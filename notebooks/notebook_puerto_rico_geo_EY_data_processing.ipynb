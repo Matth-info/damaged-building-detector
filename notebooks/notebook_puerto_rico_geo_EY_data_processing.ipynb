{
 "cells": [
  {
   "cell_type": "markdown",
   "metadata": {},
   "source": [
    "# EY Challenge"
   ]
  },
  {
   "cell_type": "markdown",
   "metadata": {},
   "source": [
    "EY provides building footprint in the region of interest, let's see how useful the provided files are."
   ]
  },
  {
   "cell_type": "markdown",
   "metadata": {},
   "source": [
    "When a shapefile is saved, informations are splitted across several files. by reading .shp file with geopandas we read all the files. "
   ]
  },
  {
   "cell_type": "code",
   "execution_count": null,
   "metadata": {},
   "outputs": [],
   "source": [
    "import geopandas as gpd \n",
    "import pandas as pd\n",
    "from shapely.geometry import Polygon\n",
    "\n",
    "gdf = gpd.read_file(\"/home/onyxia/work/damaged-building-detector/EY_footprints/building_footprint_roi_challenge.shp\", engine=\"pyogrio\")\n",
    "gdf = gdf.to_crs(epsg=4326)\n",
    "gdf.head(5)"
   ]
  },
  {
   "cell_type": "code",
   "execution_count": null,
   "metadata": {},
   "outputs": [],
   "source": [
    "print(\"number of footprint : \", len(gdf))"
   ]
  },
  {
   "cell_type": "code",
   "execution_count": null,
   "metadata": {},
   "outputs": [],
   "source": [
    "gdf.crs"
   ]
  },
  {
   "cell_type": "markdown",
   "metadata": {},
   "source": [
    "# Some Visualizations"
   ]
  },
  {
   "cell_type": "code",
   "execution_count": null,
   "metadata": {},
   "outputs": [],
   "source": [
    "df_sample = gdf.sample(10000)"
   ]
  },
  {
   "cell_type": "code",
   "execution_count": null,
   "metadata": {},
   "outputs": [],
   "source": [
    "import folium\n",
    "from folium import Choropleth, Circle, Marker\n",
    "from folium.plugins import HeatMap, MarkerCluster\n",
    "\n",
    "\n",
    "lon, lat = df_sample.longitude.mean(), df_sample.latitude.mean()\n",
    "map_0 = folium.Map(location = [lat, lon], tiles='openstreetmap', zoom_start = 10)\n",
    "\n",
    "mc = MarkerCluster()\n",
    "for centroid in df_sample.centroid:\n",
    "    mc.add_child(Marker([centroid.y, centroid.x]))\n",
    "\n",
    "map_0.add_child(mc)\n",
    "\n",
    "map_0"
   ]
  },
  {
   "cell_type": "code",
   "execution_count": null,
   "metadata": {},
   "outputs": [],
   "source": [
    "map_1 = folium.Map(location = [lat, lon], tiles='openstreetmap', zoom_start = 10)\n",
    "heat_data = [[point.y,point.x] for point in df_sample.centroid]\n",
    "HeatMap(heat_data).add_to(map_1)\n",
    "map_1"
   ]
  },
  {
   "cell_type": "markdown",
   "metadata": {},
   "source": [
    "# Display polygons"
   ]
  },
  {
   "cell_type": "code",
   "execution_count": null,
   "metadata": {},
   "outputs": [],
   "source": [
    "import geopandas as gpd \n",
    "\n",
    "map_2 = folium.Map(location = [lat, lon], tiles='openstreetmap', zoom_start = 10) \n",
    "for _, r in df_sample.iterrows():\n",
    "    sim_geo = gpd.GeoSeries(r[\"geometry\"]).simplify(tolerance=0.001)\n",
    "    geo_j = sim_geo.to_json()\n",
    "    geo_j = folium.GeoJson(data=geo_j, style_function=lambda x: {\"fillColor\": \"blue\"})\n",
    "    geo_j.add_to(map_2)\n",
    "map_2"
   ]
  },
  {
   "cell_type": "code",
   "execution_count": null,
   "metadata": {},
   "outputs": [],
   "source": [
    "df.head()"
   ]
  },
  {
   "cell_type": "markdown",
   "metadata": {},
   "source": [
    "# Data Processing"
   ]
  },
  {
   "cell_type": "code",
   "execution_count": null,
   "metadata": {},
   "outputs": [],
   "source": [
    "!pip install rasterio==1.3.9 -q"
   ]
  },
  {
   "cell_type": "code",
   "execution_count": null,
   "metadata": {},
   "outputs": [],
   "source": [
    "import pandas as pd\n",
    "import geopandas as gpd\n",
    "import numpy as np\n",
    "import csv\n",
    "import json\n",
    "import matplotlib.pyplot as plt\n",
    "import folium\n",
    "\n",
    "# Supress Warnings\n",
    "import warnings\n",
    "warnings.filterwarnings('ignore')\n",
    "\n",
    "# GeoTiff Images\n",
    "import rasterio\n",
    "from osgeo import gdal\n",
    "\n",
    "# Visualisation\n",
    "from matplotlib import pyplot as plt\n",
    "import matplotlib.image as img\n",
    "from matplotlib.pyplot import figure\n",
    "from PIL import Image\n",
    "\n",
    "# Others\n",
    "import os\n",
    "import shutil\n",
    "import zipfile\n",
    "\n",
    "from tqdm import tqdm\n",
    "import glob"
   ]
  },
  {
   "cell_type": "code",
   "execution_count": null,
   "metadata": {},
   "outputs": [],
   "source": [
    "!mc cp s3/mbesnier/damage_detection/raw_data . --recursive"
   ]
  },
  {
   "cell_type": "markdown",
   "metadata": {},
   "source": [
    "# Generate Tiles from raw tiff pictures"
   ]
  },
  {
   "cell_type": "code",
   "execution_count": null,
   "metadata": {},
   "outputs": [],
   "source": [
    "def generate_tiles(input_file, output_dir,grid_x,grid_y):\n",
    "    ds = gdal.Open(input_file)\n",
    "\n",
    "    # Get image size and number of bands\n",
    "    width = ds.RasterXSize\n",
    "    height = ds.RasterYSize\n",
    "    num_bands = ds.RasterCount\n",
    "\n",
    "    # Calculate number of tiles in each dimension\n",
    "    num_tiles_x = (width // grid_x)\n",
    "    num_tiles_y = (height // grid_y)\n",
    "\n",
    "    print(f\"Total number of tiles: {num_tiles_x * num_tiles_y}\")\n",
    "\n",
    "    # Create output directory if it doesn't exist\n",
    "    os.makedirs(output_dir, exist_ok=True)\n",
    "\n",
    "    # Iterate over each tile and save as a separate TIFF image\n",
    "    for i in tqdm(range(num_tiles_x)):\n",
    "        for j in range(num_tiles_y):\n",
    "            x_offset = i *  grid_x\n",
    "            y_offset = j *  grid_y\n",
    "\n",
    "            tile_width = min(grid_x, width - x_offset)\n",
    "            tile_height = min(grid_y, height - y_offset)\n",
    "\n",
    "            tile = []\n",
    "            for band in range(1, num_bands + 1): # Gdal convention starts bands at 1\n",
    "                tile_data = ds.GetRasterBand(band).ReadAsArray(x_offset, y_offset, tile_width, tile_height)\n",
    "                tile.append(tile_data)\n",
    "\n",
    "            # Create output filename\n",
    "            output_file = os.path.join(output_dir, f\"tile_{i}_{j}.tif\")\n",
    "\n",
    "            # Create an output TIFF file with same CRS and band values range\n",
    "            driver = gdal.GetDriverByName(\"GTiff\")\n",
    "            options = ['COMPRESS=DEFLATE', 'PREDICTOR=2', 'TILED=YES']\n",
    "            out_ds = driver.Create(output_file, tile_width, tile_height, num_bands,\n",
    "                       ds.GetRasterBand(1).DataType, options=options)\n",
    "            # out_ds = driver.Create(output_file, tile_width, tile_height, num_bands, ds.GetRasterBand(1).DataType)\n",
    "\n",
    "            # Set the geotransform\n",
    "            geotransform = list(ds.GetGeoTransform())\n",
    "            geotransform[0] = geotransform[0] + x_offset * geotransform[1]\n",
    "            geotransform[3] = geotransform[3] + y_offset * geotransform[5]\n",
    "            out_ds.SetGeoTransform(tuple(geotransform))\n",
    "\n",
    "            # Set the projection\n",
    "            out_ds.SetProjection(ds.GetProjection())\n",
    "\n",
    "            # Write each band to the output file\n",
    "            for band in range(1, num_bands + 1):\n",
    "                out_band = out_ds.GetRasterBand(band)\n",
    "                out_band.WriteArray(tile[band - 1])\n",
    "\n",
    "            # Close the output file\n",
    "            out_ds = None\n",
    "\n",
    "    print(\"Tiles generation completed.\")"
   ]
  },
  {
   "cell_type": "code",
   "execution_count": null,
   "metadata": {},
   "outputs": [],
   "source": [
    "input_file = \"/home/onyxia/work/raw_data/Post_Event_San_Juan.tif\"\n",
    "output_dir = \"./Post_Event_Grids_In_TIFF\"\n",
    "grid_x = 512\n",
    "grid_y = 512\n",
    "generate_tiles(input_file, output_dir, grid_x, grid_y)"
   ]
  },
  {
   "cell_type": "code",
   "execution_count": null,
   "metadata": {},
   "outputs": [],
   "source": [
    "# Open the geotiff file\n",
    "import re \n",
    "def extract_title_ij(filename):\n",
    "    pattern = r\"(\\w+)/tile_(\\d+)_(\\d+).tif\"\n",
    "    match = re.search(pattern, filename)\n",
    "    if match:\n",
    "        title , i, j = map(str, match.groups())\n",
    "        return title, i, j\n",
    "    else:\n",
    "        return None, None, None\n",
    "\n",
    "\n",
    "def load_and_visualize(image_path):\n",
    "    \"\"\"\n",
    "    display a tif image (little tiles are recommended)\n",
    "    \"\"\"\n",
    "    with rasterio.open(image_path) as src:\n",
    "        # Read the red, green, and blue bands directly into a 3D array\n",
    "        image_rgb = src.read([1, 2, 3])  # Read bands 1, 2, and 3 in a single call\n",
    "        # Transpose the array for correct display (optional)\n",
    "        image_rgb = image_rgb.transpose(1, 2, 0)\n",
    "\n",
    "        title , i, j = extract_title_ij(image_path)\n",
    "\n",
    "        # Display the RGB composite image\n",
    "        plt.imshow(image_rgb)\n",
    "        plt.title(f\"Image from {title} at position (i={i},j={j})\")\n",
    "        plt.show()"
   ]
  },
  {
   "cell_type": "code",
   "execution_count": null,
   "metadata": {},
   "outputs": [],
   "source": [
    "i = 8 \n",
    "j = 100\n",
    "\n",
    "load_and_visualize(f\"Pre_Event_Grids_In_TIFF/tile_{i}_{j}.tif\")"
   ]
  },
  {
   "cell_type": "code",
   "execution_count": null,
   "metadata": {},
   "outputs": [],
   "source": [
    "import shapely.geometry\n",
    "import rasterio.features \n",
    "\n",
    "def extract_coor_from_tiff_image(path):\n",
    "  \"\"\"\n",
    "  extract coordinates associated to a tif image\n",
    "  \"\"\"\n",
    "  with rasterio.open(path) as dataset:\n",
    "\n",
    "    # Read the dataset's valid data mask as a ndarray.\n",
    "\n",
    "    mask = dataset.dataset_mask()\n",
    "\n",
    "    # Extract feature shapes and values from the array.\n",
    "    for geom, val in rasterio.features.shapes(\n",
    "            mask, transform=dataset.transform):\n",
    "        \n",
    "        # Transform shapes from the dataset's own coordinate\n",
    "        # reference system to CRS84 (EPSG:4326).\n",
    "        geom = rasterio.warp.transform_geom(\n",
    "            dataset.crs, 'EPSG:4326', geom, precision=6)\n",
    "\n",
    "        bounds = shapely.geometry.shape(geom).bounds\n",
    "        #minx, miny, maxx, maxy = bounds\n",
    "        bounds = [[bounds[1], bounds[0]], [bounds[3], bounds[2]]]\n",
    "        #[[18.461885, -66.190829], [18.463317, -66.189328]]\n",
    "\n",
    "        return geom, bounds # return a geojson object (polygon localized on a map)\n",
    "        #bounds are folium compatible\n",
    "\n",
    "def convert_tiff_to_numpy(tif_path):\n",
    "    # check if output_dir exists, if not create it\n",
    "    # check if file is an image (ends with .tif)\n",
    "    with rasterio.open(tif_path)as src:\n",
    "          image_array = src.read([1, 2, 3])  # Read bands 1, 2, and 3 in a single call\n",
    "          # Transpose the array for correct display (optional)\n",
    "          image_array = image_array.transpose(1, 2, 0)\n",
    "          return image_array    \n",
    "\n",
    "import multiprocessing as mp\n",
    "from joblib import Parallel, delayed\n",
    "\n",
    "def process_tif(path):\n",
    "    geom , bounds = extract_coor_from_tiff_image(path)\n",
    "    geom = Polygon(geom[\"coordinates\"][0])\n",
    "    return [path, geom]\n",
    "\n",
    "def table_tiff_geojson_fast(folder_tiff):\n",
    "    \"\"\"\n",
    "    create a geo dataframe from a tiff folder\n",
    "    \"\"\"\n",
    "    if os.path.exists(folder_tiff):\n",
    "        list_tifs = glob.glob(folder_tiff + \"/*.tif\")\n",
    "        gdf = gpd.GeoDataFrame(columns=[\"path\", \"geometry\"], index=range(len(list_tifs)))\n",
    "\n",
    "        num_cores = mp.cpu_count()  # Number of cores in your machine\n",
    "        print(\"number of cores : \", num_cores)\n",
    "        results = Parallel(n_jobs=num_cores)(delayed(process_tif)(path) for path in list_tifs)\n",
    "\n",
    "        for i, result in enumerate(results):\n",
    "            gdf.loc[i] = result\n",
    "\n",
    "        print(f\"{folder_tiff} has been converted into GeoJSON DataFrame\")\n",
    "        return gdf"
   ]
  },
  {
   "cell_type": "code",
   "execution_count": null,
   "metadata": {},
   "outputs": [],
   "source": [
    "%%time\n",
    "\"\"\"folder_tiff = \"Post_Event_Grids_In_TIFF\"\n",
    "table_tiff_post = table_tiff_geojson_fast(folder_tiff)\n",
    "\"\"\"\n",
    "folder_tiff = \"Pre_Event_Grids_In_TIFF\"\n",
    "table_tiff_pre = table_tiff_geojson_fast(folder_tiff)"
   ]
  },
  {
   "cell_type": "code",
   "execution_count": null,
   "metadata": {},
   "outputs": [],
   "source": [
    "#qurey points are the centroids of the footprint building gdf[\"centroids\"]\n",
    "from sklearn.neighbors import KDTree\n",
    "import time \n",
    "from shapely import Point\n",
    "#find the images where foot prints appears\n",
    "\n",
    "def matching_footprint_to_tiff_images(ft_gdf, table_tiff):\n",
    "      \"\"\"\n",
    "      Matching footprints with tiff images (by using centroids)\n",
    "      \"\"\"\n",
    "      t0 = time.time()\n",
    "      required_cols = [\"geometry\"]\n",
    "      if not all(col in ft_gdf.columns for col in required_cols):\n",
    "        raise ValueError(\"Missing required columns in ft_gdf.\")\n",
    "      if not all(col in table_tiff.columns for col in required_cols):\n",
    "        raise ValueError(\"Missing required columns in table_tiff.\")\n",
    "\n",
    "      # to compute distance btw these 2 figures they need to be put into the same geodesic referential system (GPS : lat, long)\n",
    "      ft_gdf = ft_gdf.set_crs('epsg:4326') #Geodesic coordinate\n",
    "      table_tiff = table_tiff.set_crs('epsg:4326')\n",
    "\n",
    "      #to use euclidian distance\n",
    "      ft_gdf = ft_gdf.to_crs('EPSG:3857') #EPSG:3857 Projected coordinate Mercator (Map)\n",
    "      table_tiff = table_tiff.to_crs('EPSG:3857')\n",
    "\n",
    "      centroid_query = np.array(list(zip(ft_gdf.centroid.x.to_numpy() , ft_gdf.centroid.y.to_numpy())))\n",
    "      centroid_table = np.array(list(zip(table_tiff.centroid.x.to_numpy() , table_tiff.centroid.y.to_numpy())))\n",
    "\n",
    "      print(\"creation of the KD Tree for tile centroid\")\n",
    "      print(\"number of footprints : \", len(centroid_query))\n",
    "      print(\"number of titles : \", len(centroid_table))\n",
    "        \n",
    "      tree = KDTree(centroid_table, leaf_size = 20, metric='euclidean')\n",
    "\n",
    "      print(\"query the Tree with the centroid of the footprints\")\n",
    "      distances, indices = tree.query(centroid_query, k=1) #each footprint centroid find its tile by finding the nearest tile centroid\n",
    "      response = [str(table_tiff.iloc[i][\"path\"]) for i in indices.squeeze(1)]\n",
    "      tile_centroids = [Point(centroid_table[i]) for i in indices.squeeze(1)]\n",
    "\n",
    "      df = {}\n",
    "\n",
    "      ft_gdf = ft_gdf.to_crs('epsg:4326')\n",
    "      df[\"path_to_image\"] = pd.Series(response) # associated images \n",
    "      df[\"distance\"] = pd.Series(distances[:,0]) #in meters\n",
    "      df[\"geometry\"] = ft_gdf[\"geometry\"].reset_index(drop=True) #associated footprints \n",
    "      df[\"centroid_tile\"] = gpd.GeoSeries(tile_centroids, crs='EPSG:3857').to_crs('epsg:4326')\n",
    "        \n",
    "      print(\"processing time : \", time.time() - t0, \"s\")\n",
    "      return gpd.GeoDataFrame(df)"
   ]
  },
  {
   "cell_type": "code",
   "execution_count": null,
   "metadata": {},
   "outputs": [],
   "source": [
    "#matching_table_post = matching_footprint_to_tiff_images(gdf, table_tiff_post)\n",
    "matching_table_pre = matching_footprint_to_tiff_images(gdf, table_tiff_pre)"
   ]
  },
  {
   "cell_type": "code",
   "execution_count": null,
   "metadata": {},
   "outputs": [],
   "source": [
    "#matching_table_post.head()\n",
    "matching_table_pre.head()"
   ]
  },
  {
   "cell_type": "code",
   "execution_count": null,
   "metadata": {},
   "outputs": [],
   "source": [
    "len(matching_table_pre)"
   ]
  },
  {
   "cell_type": "code",
   "execution_count": null,
   "metadata": {},
   "outputs": [],
   "source": [
    "load_and_visualize(f\"Pre_Event_Grids_In_TIFF/tile_73_57.tif\")"
   ]
  },
  {
   "cell_type": "code",
   "execution_count": null,
   "metadata": {},
   "outputs": [],
   "source": [
    "def calculate_distance_from_tiff(path):\n",
    "    with rasterio.open(path) as dataset:\n",
    "        # Get pixel resolution (size of each pixel)\n",
    "        x_resolution, y_resolution = dataset.res\n",
    "\n",
    "        # Get image dimensions (number of pixels in each dimension)\n",
    "        width = dataset.width\n",
    "        height = dataset.height\n",
    "\n",
    "        # Calculate distance covered in each dimension\n",
    "        distance_x = width * x_resolution\n",
    "        distance_y = height * y_resolution\n",
    "\n",
    "        return distance_x, distance_y\n",
    "\n",
    "def data_gathering(data):\n",
    "    \"\"\"\n",
    "    from a filtered dataset with pair (image, footprint) convert the images into array\n",
    "    \"\"\"\n",
    "    list_path = data.path_to_image.unique()\n",
    "    res = {}\n",
    "    for path in tqdm(list_path):\n",
    "         output = data[data[\"path_to_image\"] == path]\n",
    "         res[path] = output.geometry.array\n",
    "    return res"
   ]
  },
  {
   "cell_type": "code",
   "execution_count": null,
   "metadata": {},
   "outputs": [],
   "source": [
    "#filter : \n",
    "matching_table_post_filtered = matching_table_post[matching_table_post[\"distance\"] <= 106]\n",
    "results_post = data_gathering(matching_table_post_filtered)"
   ]
  },
  {
   "cell_type": "code",
   "execution_count": null,
   "metadata": {},
   "outputs": [],
   "source": [
    "#filter : \n",
    "matching_table_pre_filtered = matching_table_pre[matching_table_pre[\"distance\"] <= 106]\n",
    "results_pre = data_gathering(matching_table_pre_filtered)"
   ]
  },
  {
   "cell_type": "code",
   "execution_count": null,
   "metadata": {},
   "outputs": [],
   "source": [
    "def convert_tiff_to_jpeg(input_dir, output_dir):\n",
    "    \"\"\"\n",
    "    Converting tiff images to jpeg images.\n",
    "    \"\"\"\n",
    "    # check if output_dir exists, if not create it\n",
    "    if not os.path.exists(output_dir):\n",
    "        os.makedirs(output_dir)\n",
    "\n",
    "    for filename in os.listdir(input_dir):\n",
    "        # check if file is an image (ends with .tif)\n",
    "        if filename.endswith('.tif'):\n",
    "            img = Image.open(os.path.join(input_dir, filename))\n",
    "        \n",
    "            # check if image is RGB mode, if not convert it\n",
    "            if img.mode != 'RGB':\n",
    "                img = img.convert('RGB')\n",
    "        \n",
    "            # create new filename, replace .tif with .jpg\n",
    "            output_filename = os.path.splitext(filename)[0] + '.jpg'\n",
    "        \n",
    "            # save the image in JPEG format\n",
    "            img.save(os.path.join(output_dir, output_filename), 'JPEG', quality=100)\n",
    "    print(\"Conversion from TIFF to JPEG completed.\")"
   ]
  },
  {
   "cell_type": "code",
   "execution_count": null,
   "metadata": {},
   "outputs": [],
   "source": [
    "from rasterio.mask import mask\n",
    "from rasterio.plot import show\n",
    "import geopandas as gdp\n",
    "\n",
    "#image_path = np.random.choice(list(results_post.keys()))\n",
    "image_path = \"Pre_Event_Grids_In_TIFF/tile_36_109.tif\" \n",
    "info = results_pre[image_path] #extract the associated building footprint\n",
    "print(image_path , \" : \", info)\n",
    "\n",
    "with rasterio.open(image_path) as src:\n",
    "        # Get the CRS (Coordinate Reference System) of the TIFF image\n",
    "        crs = src.crs\n",
    "        polygons = gdp.GeoDataFrame(geometry = info) \n",
    "        polygons = polygons.to_crs(crs)\n",
    "        # Create subplot\n",
    "        fig, (ax1, ax2) = plt.subplots(1, 2, figsize=(12,6))\n",
    "\n",
    "        # Plot RGB image\n",
    "        show(src, ax=ax1)\n",
    "        ax1.set_title('RGB Image')\n",
    "        \n",
    "        # Plot building footprint\n",
    "        polygons.plot(ax=ax2)\n",
    "        ax2.set_title('Building Footprint Polygon')\n",
    "\n",
    "        plt.show()"
   ]
  },
  {
   "cell_type": "markdown",
   "metadata": {},
   "source": [
    "# Display RGB image with Building Footprint"
   ]
  },
  {
   "cell_type": "code",
   "execution_count": null,
   "metadata": {},
   "outputs": [],
   "source": [
    "geom , bounds = extract_coor_from_tiff_image(image_path)\n",
    "print(bounds)\n",
    "polygons_ = info\n",
    "\n",
    "# Filter out empty or missing polygons\n",
    "valid_polygons = [polygon for polygon in polygons_ if not polygon.is_empty]\n",
    "\n",
    "# Create the map\n",
    "m = folium.Map(location=bounds[0], zoom_start=15)\n",
    "\n",
    "# Add valid polygons to the map\n",
    "bbox = folium.GeoJson(\n",
    "    data={\"type\": \"FeatureCollection\", \"features\": [\n",
    "        {\"type\": \"Feature\", \"geometry\": shapely.geometry.mapping(polygon)} for polygon in valid_polygons\n",
    "    ]},\n",
    "    style_function=lambda x: {'color': 'blue'}\n",
    ").add_to(m)\n",
    "\n",
    "# Add the image overlay\n",
    "img = folium.raster_layers.ImageOverlay(\n",
    "    name=\"pre event Puerto Rico\",\n",
    "    bounds=bounds,\n",
    "    image=convert_tiff_to_numpy(image_path),\n",
    "    opacity=1,\n",
    "    cross_origin=False,\n",
    "    zindex=1\n",
    ").add_to(m)\n",
    "\n",
    "# Add a popup\n",
    "folium.Popup(\"pre event Puerto Rico\").add_to(m)\n",
    "\n",
    "# Show the map\n",
    "m\n"
   ]
  },
  {
   "cell_type": "code",
   "execution_count": null,
   "metadata": {},
   "outputs": [],
   "source": [
    "from shapely.ops import cascaded_union\n",
    "from rasterio.plot import reshape_as_image\n",
    "from rasterio import features\n",
    "import re \n",
    "\n",
    "def poly_from_utm(polygon, transform):\n",
    "    \"\"\"\n",
    "    Convert polygon coordinates from UTM to image pixel coordinates.\n",
    "    \"\"\"\n",
    "    poly_pts = []\n",
    "    for x, y in np.array(polygon.exterior.coords):\n",
    "        x, y = ~transform * (x, y)\n",
    "        poly_pts.append((x, y))\n",
    "    return Polygon(poly_pts)\n",
    "\n",
    "    \n",
    "def generate_mask(image_path, shapes, save_path_o):\n",
    "    \"\"\"\n",
    "    image_path : string \n",
    "    shapes : list of polygones associated to image_path \n",
    "    \"\"\" \n",
    "    #create a directory\n",
    "    if not os.path.exists(save_path_o):\n",
    "        os.makedirs(save_path_o)\n",
    "\n",
    "    #if the associated file already exist do not generate the mask \n",
    "    delimiters = \"/. \"\n",
    "    save_path = save_path_o + \"/\" + re.split('[{}]+'.format(''.join(map(re.escape, delimiters))), image_path)[1] + \"_mask.tif\"\n",
    "    if not os.path.exists(save_path):\n",
    "\n",
    "        with rasterio.open(image_path, \"r\") as src: #read tiff image\n",
    "\n",
    "            raster_image = src.read()\n",
    "            raster_meta = src.meta\n",
    "            crs_image = raster_meta[\"crs\"]\n",
    "\n",
    "        train_df = gpd.GeoDataFrame(geometry = shapes).to_crs(crs_image) #create a geo pandas with the footprints \n",
    "\n",
    "        poly_shp = []\n",
    "        im_size = (src.meta['height'], src.meta['width'])\n",
    "        for num, row in train_df.iterrows():\n",
    "            if row['geometry'].geom_type == 'Polygon':\n",
    "                poly = poly_from_utm(row['geometry'], src.meta['transform'])\n",
    "                poly_shp.append((poly, num))\n",
    "            elif row['geometry'].geom_type == 'MultiPolygon':\n",
    "                multipolygon = row['geometry'].geoms\n",
    "                for p in multipolygon: \n",
    "                    poly = poly_from_utm(p, src.meta['transform']) \n",
    "                    poly_shp.append((poly, num))\n",
    "            else:\n",
    "                print(f\"Unsupported geometry type: {row['geometry'].geom_type}\")\n",
    "\n",
    "        #create a mask from the footprint\n",
    "        mask = features.rasterize(shapes=poly_shp,\n",
    "                                out_shape=im_size, \n",
    "                                fill=-1)\n",
    "        \n",
    "        mask = mask.astype(\"uint16\")\n",
    "        bin_mask_meta = src.meta.copy()\n",
    "        bin_mask_meta.update({'count': 1})\n",
    "        with rasterio.open(save_path, 'w', **bin_mask_meta) as dst:\n",
    "            dst.write(mask * 255, 1)"
   ]
  },
  {
   "cell_type": "code",
   "execution_count": null,
   "metadata": {},
   "outputs": [],
   "source": [
    "%%time\n",
    "def convert_tiff_images_to_jpeg(image_paths_tiff, output_dir=\"Pre_Event_Grids_In_jpeg\"):\n",
    "    # check if output_dir exists, if not create it\n",
    "    if not os.path.exists(output_dir):\n",
    "        os.makedirs(output_dir)\n",
    "\n",
    "    for filename in tqdm(image_paths_tiff):\n",
    "        # check if file is an image (ends with .tif)\n",
    "        if filename.endswith('.tif'):\n",
    "            img = Image.open(os.path.join(filename))\n",
    "        \n",
    "            # check if image is RGB mode, if not convert it\n",
    "            if img.mode != 'RGB':\n",
    "                img = img.convert('RGB')\n",
    "        \n",
    "            # create new filename, replace .tif with .jpg\n",
    "            delimiters = \"/. \"\n",
    "            output_filename = re.split('[{}]+'.format(''.join(map(re.escape, delimiters))), filename)[1] + '.jpg'\n",
    "        \n",
    "            # save the image in JPEG format\n",
    "            img.save(os.path.join(output_dir, output_filename), 'JPEG', quality=100)\n",
    "    print(\"Conversion from TIFF to JPEG completed.\")"
   ]
  },
  {
   "cell_type": "code",
   "execution_count": null,
   "metadata": {},
   "outputs": [],
   "source": [
    "#convert_tiff_images_to_jpeg(results_post.keys(),\"Post_Event_Grids_In_jpeg\") \n",
    "convert_tiff_images_to_jpeg(results_pre.keys(),\"Pre_Event_Grids_In_jpeg\") "
   ]
  },
  {
   "cell_type": "code",
   "execution_count": null,
   "metadata": {},
   "outputs": [],
   "source": [
    "%%time \n",
    "save_path_o = \"Post_Event_Grids_In_TIFF_mask\"\n",
    "\n",
    "for image_path in tqdm(results_post.keys()):\n",
    "    generate_mask(image_path, results_post[image_path], save_path_o)"
   ]
  },
  {
   "cell_type": "code",
   "execution_count": null,
   "metadata": {},
   "outputs": [],
   "source": [
    "%%time \n",
    "save_path_o = \"Pre_Event_Grids_In_TIFF_mask\"\n",
    "for image_path in tqdm(results_pre.keys()):\n",
    "    generate_mask(image_path, results_pre[image_path], save_path_o)"
   ]
  },
  {
   "cell_type": "code",
   "execution_count": null,
   "metadata": {},
   "outputs": [],
   "source": [
    "mask_paths = glob.glob(\"Post_Event_Grids_In_TIFF_mask/*.tif\")\n",
    "convert_tiff_images_to_jpeg(mask_paths ,output_dir=\"Post_Event_Grids_mask_jpeg\")"
   ]
  },
  {
   "cell_type": "code",
   "execution_count": null,
   "metadata": {},
   "outputs": [],
   "source": [
    "mask_paths = glob.glob(\"Pre_Event_Grids_In_TIFF_mask/*.tif\")\n",
    "convert_tiff_images_to_jpeg(mask_paths ,output_dir=\"Pre_Event_Grids_mask_jpeg\") "
   ]
  }
 ],
 "metadata": {
  "kernelspec": {
   "display_name": "geo_spatial_analysis",
   "language": "python",
   "name": "python3"
  },
  "language_info": {
   "codemirror_mode": {
    "name": "ipython",
    "version": 3
   },
   "file_extension": ".py",
   "mimetype": "text/x-python",
   "name": "python",
   "nbconvert_exporter": "python",
   "pygments_lexer": "ipython3",
   "version": "3.12.2"
  }
 },
 "nbformat": 4,
 "nbformat_minor": 2
}
