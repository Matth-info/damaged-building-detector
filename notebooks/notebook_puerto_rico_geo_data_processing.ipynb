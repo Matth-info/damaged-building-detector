{
 "cells": [
  {
   "cell_type": "code",
   "execution_count": null,
   "id": "88c64c57-f796-45f7-a7bc-d341ed342653",
   "metadata": {
    "tags": []
   },
   "outputs": [],
   "source": [
    "!pip install rasterio==1.3.9"
   ]
  },
  {
   "cell_type": "code",
   "execution_count": null,
   "id": "c04f8a05-61bb-44b3-b8ea-c906af0613a2",
   "metadata": {
    "tags": []
   },
   "outputs": [],
   "source": [
    "import pandas as pd\n",
    "import geopandas as gpd\n",
    "import numpy as np\n",
    "import csv\n",
    "import json\n",
    "import matplotlib.pyplot as plt\n",
    "import folium\n",
    "\n",
    "# Supress Warnings\n",
    "import warnings\n",
    "warnings.filterwarnings('ignore')\n",
    "\n",
    "# GeoTiff Images\n",
    "import rasterio\n",
    "from osgeo import gdal\n",
    "\n",
    "# Visualisation\n",
    "from matplotlib import pyplot as plt\n",
    "import matplotlib.image as img\n",
    "from matplotlib.pyplot import figure\n",
    "from PIL import Image\n",
    "\n",
    "\"\"\"# Model Building\n",
    "import ultralytics\n",
    "from ultralytics import YOLO\n",
    "import labelme2yolo\"\"\"\n",
    "\n",
    "# Others\n",
    "import os\n",
    "import shutil\n",
    "import zipfile\n",
    "\n",
    "from tqdm import tqdm\n",
    "import glob"
   ]
  },
  {
   "cell_type": "markdown",
   "id": "a9ad0db2-6723-45bb-a480-91156fc0526b",
   "metadata": {},
   "source": [
    "# Create a dataset of building footprint segmentation masks. "
   ]
  },
  {
   "cell_type": "markdown",
   "id": "60fbebb8",
   "metadata": {},
   "source": [
    "with S3 credential and SSP Cloud access : \n",
    "- mc cp s3/mbesnier/damage_detection/building_footprints_puerto_rico ./ --recursive "
   ]
  },
  {
   "cell_type": "markdown",
   "id": "d5ead8f6-ab02-4473-8b4f-a34186db689d",
   "metadata": {},
   "source": [
    "Task Description : \n",
    "- [x] Finding the corresponding files containing the building footprints in Puerto Rico\n",
    "- [x] Extracting the footprints with geolocated information\n",
    "- [x] Associate the titles from the data processing of Puerto Rico (images from tiff files) to the geolocalized masks. (use a KD tree) (for each retrieved footprint find the closest title centroid )\n",
    "- [ ] Transform the building footprint into a segmentation mask for semantic segmentation instance. \n",
    "- [ ] Build the dataset: image/masks => Train/Eval/Test dataset\n",
    "- [ ] Train a Building detector (use **Active learning** to know which extra data should be annotated. )\n",
    "- [ ] Apply some technics from conformal prediction to evaluate Classifier and Segmentation model.   \n",
    "- [ ] Train an **Image segmentation** Building Footprint detector (with and without extra classes => See the transfer learning possibilities)."
   ]
  },
  {
   "cell_type": "code",
   "execution_count": null,
   "id": "19254918-0f1f-4e3c-aa17-a58f5860fa51",
   "metadata": {
    "tags": []
   },
   "outputs": [],
   "source": [
    "list_paths = glob.glob(\"/home/onyxia/work/building_footprints_puerto_rico/*.csv\") #put the files of footprint\n",
    "print(len(list_paths))"
   ]
  },
  {
   "cell_type": "code",
   "execution_count": null,
   "id": "5169c37b-b03a-4548-a7bc-cf43b9604ad2",
   "metadata": {
    "tags": []
   },
   "outputs": [],
   "source": [
    "def safe_json_loads(data):\n",
    "    try:\n",
    "        return json.loads(data)\n",
    "    except json.JSONDecodeError as e:\n",
    "        print(f\"Error decoding JSON: {e}\")\n",
    "        print(\"line : \", data)\n",
    "        return None"
   ]
  },
  {
   "cell_type": "code",
   "execution_count": null,
   "id": "b44be3d6-6718-422c-b638-6b6963d9e158",
   "metadata": {
    "tags": []
   },
   "outputs": [],
   "source": [
    "#put the files of footprint\n",
    "import json\n",
    "\n",
    "# reading the data from the file\n",
    "json_objects = []\n",
    "for path in list_paths:\n",
    "      print(\"processing \" + str(path)) \n",
    "      with open(path) as f:\n",
    "          data = f.read()\n",
    "  # reconstructing the data as a dictionary\n",
    "      json_objects.extend([safe_json_loads(line) for line in data.strip().split('\\n')])"
   ]
  },
  {
   "cell_type": "code",
   "execution_count": null,
   "id": "267b8486-b97b-4a01-b143-88a20e932ef2",
   "metadata": {
    "tags": []
   },
   "outputs": [],
   "source": [
    "len(json_objects)"
   ]
  },
  {
   "cell_type": "code",
   "execution_count": null,
   "id": "f7bc3546-ed0c-4784-ad14-aecb4c37c4ce",
   "metadata": {
    "tags": []
   },
   "outputs": [],
   "source": [
    "import pandas as pd\n",
    "from shapely.geometry import Polygon\n",
    "\n",
    "parsed_data = [Polygon(item['geometry']['coordinates'][0]) for item in json_objects if item is not None ]\n",
    "gdf = gpd.GeoDataFrame(data=parsed_data, columns=['geometry'])\n",
    "gdf.set_crs(\"EPSG:4326\", inplace=True)"
   ]
  },
  {
   "cell_type": "markdown",
   "id": "8440b402",
   "metadata": {},
   "source": [
    "# Test"
   ]
  },
  {
   "cell_type": "code",
   "execution_count": null,
   "id": "99fcae62",
   "metadata": {
    "tags": []
   },
   "outputs": [],
   "source": [
    "import random\n",
    "gdf = gdf.sample(n=1000, random_state=42)"
   ]
  },
  {
   "cell_type": "code",
   "execution_count": null,
   "id": "06341023",
   "metadata": {},
   "outputs": [],
   "source": [
    "gdf.geometry.to_crs(\"4326\")\n",
    "centroid = gdf.geometry.centroid #centroids of the bulding footprints. \n",
    "center =  [centroid.y.mean(), centroid.x.mean()]\n",
    "map = folium.Map(location=center, zoom_start=8) #Microsoft use this geodesic referential : EPSG: 4326 (correspond to GPS)"
   ]
  },
  {
   "cell_type": "markdown",
   "id": "eb39e3f2-e0dd-4fcf-97c9-0fae664a4e4c",
   "metadata": {},
   "source": [
    "# Access to EY Challenge Data (Pre event and Post event San Juan catastrophy)"
   ]
  },
  {
   "cell_type": "code",
   "execution_count": null,
   "id": "16f14e05",
   "metadata": {},
   "outputs": [],
   "source": [
    "!mc cp s3/mbesnier/damage_detection/raw_data . --recursive  #load the data from the S3 bucket"
   ]
  },
  {
   "cell_type": "code",
   "execution_count": null,
   "id": "8b94c6b6-a6a5-4ba1-9341-0dba60dbee4f",
   "metadata": {
    "tags": []
   },
   "outputs": [],
   "source": [
    "# load the data from API \n",
    "!wget \"https://challenge.ey.com/api/v1/storage/admin-files/Pre_Event_San_Juan.tif\" -O \"Pre_Event_San_Juan.tif\"\n",
    "!wget \"https://challenge.ey.com/api/v1/storage/admin-files/Post_Event_San_Juan.tif\" -O \"Post_Event_San_Juan.tif\""
   ]
  },
  {
   "cell_type": "code",
   "execution_count": null,
   "id": "22978e57-73af-4655-ab13-d0b4aa58c6ac",
   "metadata": {
    "tags": []
   },
   "outputs": [],
   "source": [
    "pre_event_image = './Pre_Event_San_Juan.tif'"
   ]
  },
  {
   "cell_type": "code",
   "execution_count": null,
   "id": "55bec2f0-43ee-4cf2-9858-049601592fec",
   "metadata": {
    "tags": []
   },
   "outputs": [],
   "source": [
    "gdf.bounds.head()"
   ]
  },
  {
   "cell_type": "markdown",
   "id": "7299277c-3b8b-4845-995c-ff7d0b34565c",
   "metadata": {},
   "source": [
    "# Generate Tiles from raw tiff pictures"
   ]
  },
  {
   "cell_type": "code",
   "execution_count": null,
   "id": "4dfd2ce8-052f-48ae-ad81-8f4c948b118d",
   "metadata": {
    "tags": []
   },
   "outputs": [],
   "source": [
    "def generate_tiles(input_file, output_dir,grid_x,grid_y):\n",
    "    ds = gdal.Open(input_file)\n",
    "\n",
    "    # Get image size and number of bands\n",
    "    width = ds.RasterXSize\n",
    "    height = ds.RasterYSize\n",
    "    num_bands = ds.RasterCount\n",
    "\n",
    "    # Calculate number of tiles in each dimension\n",
    "    num_tiles_x = (width // grid_x)\n",
    "    num_tiles_y = (height // grid_y)\n",
    "\n",
    "    print(f\"Total number of tiles: {num_tiles_x * num_tiles_y}\")\n",
    "\n",
    "    # Create output directory if it doesn't exist\n",
    "    os.makedirs(output_dir, exist_ok=True)\n",
    "\n",
    "    # Iterate over each tile and save as a separate TIFF image\n",
    "    for i in tqdm(range(num_tiles_x)):\n",
    "        for j in range(num_tiles_y):\n",
    "            x_offset = i *  grid_x\n",
    "            y_offset = j *  grid_y\n",
    "\n",
    "            tile_width = min(grid_x, width - x_offset)\n",
    "            tile_height = min(grid_y, height - y_offset)\n",
    "\n",
    "            tile = []\n",
    "            for band in range(1, num_bands + 1):\n",
    "                tile_data = ds.GetRasterBand(band).ReadAsArray(x_offset, y_offset, tile_width, tile_height)\n",
    "                tile.append(tile_data)\n",
    "\n",
    "            # Create output filename\n",
    "            output_file = os.path.join(output_dir, f\"tile_{i}_{j}.tif\")\n",
    "\n",
    "            # Create an output TIFF file with same CRS and band values range\n",
    "            driver = gdal.GetDriverByName(\"GTiff\")\n",
    "            options = ['COMPRESS=DEFLATE', 'PREDICTOR=2', 'TILED=YES']\n",
    "            out_ds = driver.Create(output_file, tile_width, tile_height, num_bands,\n",
    "                       ds.GetRasterBand(1).DataType, options=options)\n",
    "            # out_ds = driver.Create(output_file, tile_width, tile_height, num_bands, ds.GetRasterBand(1).DataType)\n",
    "\n",
    "            # Set the geotransform\n",
    "            geotransform = list(ds.GetGeoTransform())\n",
    "            geotransform[0] = geotransform[0] + x_offset * geotransform[1]\n",
    "            geotransform[3] = geotransform[3] + y_offset * geotransform[5]\n",
    "            out_ds.SetGeoTransform(tuple(geotransform))\n",
    "\n",
    "            # Set the projection\n",
    "            out_ds.SetProjection(ds.GetProjection())\n",
    "\n",
    "            # Write each band to the output file\n",
    "            for band in range(1, num_bands + 1):\n",
    "                out_band = out_ds.GetRasterBand(band)\n",
    "                out_band.WriteArray(tile[band - 1])\n",
    "\n",
    "            # Close the output file\n",
    "            out_ds = None\n",
    "\n",
    "    print(\"Tiles generation completed.\")"
   ]
  },
  {
   "cell_type": "code",
   "execution_count": null,
   "id": "75db5908-d901-47b9-84d2-85c686509e27",
   "metadata": {},
   "outputs": [],
   "source": [
    "input_file = \"Post_Event_San_Juan.tif\"\n",
    "output_dir = \"./Post_Event_Grids_In_TIFF\"\n",
    "grid_x = 512\n",
    "grid_y = 512\n",
    "generate_tiles(input_file, output_dir, grid_x, grid_y)"
   ]
  },
  {
   "cell_type": "code",
   "execution_count": null,
   "id": "0b7afb0e-33a6-4c16-80f7-1e7bcc70ca55",
   "metadata": {
    "tags": []
   },
   "outputs": [],
   "source": [
    "input_file = \"Pre_Event_San_Juan.tif\"\n",
    "output_dir = \"./Pre_Event_Grids_In_TIFF\"\n",
    "grid_x = 512\n",
    "grid_y = 512\n",
    "generate_tiles(input_file, output_dir, grid_x, grid_y)"
   ]
  },
  {
   "cell_type": "code",
   "execution_count": null,
   "id": "20884367-32af-49d5-8500-e8c69a4d3f10",
   "metadata": {
    "tags": []
   },
   "outputs": [],
   "source": [
    "# Open the geotiff file\n",
    "import re \n",
    "def extract_title_ij(filename):\n",
    "    pattern = r\"(\\w+)/tile_(\\d+)_(\\d+).tif\"\n",
    "    match = re.search(pattern, filename)\n",
    "    if match:\n",
    "        title , i, j = map(str, match.groups())\n",
    "        return title, i, j\n",
    "    else:\n",
    "        return None, None, None\n",
    "\n",
    "\n",
    "def load_and_visualize(image_path):\n",
    "    \"\"\"\n",
    "    display a tif image (little tiles are recommended)\n",
    "    \"\"\"\n",
    "    with rasterio.open(image_path) as src:\n",
    "        # Read the red, green, and blue bands directly into a 3D array\n",
    "        image_rgb = src.read([1, 2, 3])  # Read bands 1, 2, and 3 in a single call\n",
    "        # Transpose the array for correct display (optional)\n",
    "        image_rgb = image_rgb.transpose(1, 2, 0)\n",
    "\n",
    "        title , i, j = extract_title_ij(image_path)\n",
    "\n",
    "        # Display the RGB composite image\n",
    "        plt.imshow(image_rgb)\n",
    "        plt.title(f\"Image from {title} at position (i={i},j={j})\")\n",
    "        plt.show()"
   ]
  },
  {
   "cell_type": "code",
   "execution_count": null,
   "id": "98c3a294-65e8-40cc-a98d-bd5cbeb2da0f",
   "metadata": {
    "tags": []
   },
   "outputs": [],
   "source": [
    "i = 8 \n",
    "j = 100\n",
    "\n",
    "load_and_visualize(f\"Pre_Event_Grids_In_TIFF/tile_{i}_{j}.tif\")\n",
    "load_and_visualize(f\"Post_Event_Grids_In_TIFF/tile_{i}_{j}.tif\")"
   ]
  },
  {
   "cell_type": "code",
   "execution_count": null,
   "id": "18ed62fc-2314-4f3f-bc57-89f13cf88f24",
   "metadata": {
    "tags": []
   },
   "outputs": [],
   "source": [
    "import shapely.geometry\n",
    "import rasterio.features \n",
    "\n",
    "def extract_coor_from_tiff_image(path):\n",
    "  \"\"\"\n",
    "  extract coordinates associated to a tif image\n",
    "  \"\"\"\n",
    "  with rasterio.open(path) as dataset:\n",
    "\n",
    "    # Read the dataset's valid data mask as a ndarray.\n",
    "\n",
    "    mask = dataset.dataset_mask()\n",
    "\n",
    "    # Extract feature shapes and values from the array.\n",
    "    for geom, val in rasterio.features.shapes(\n",
    "            mask, transform=dataset.transform):\n",
    "        \n",
    "        # Transform shapes from the dataset's own coordinate\n",
    "        # reference system to CRS84 (EPSG:4326).\n",
    "        geom = rasterio.warp.transform_geom(\n",
    "            dataset.crs, 'EPSG:4326', geom, precision=6)\n",
    "\n",
    "        bounds = shapely.geometry.shape(geom).bounds\n",
    "        #minx, miny, maxx, maxy = bounds\n",
    "        bounds = [[bounds[1], bounds[0]], [bounds[3], bounds[2]]]\n",
    "        #[[18.461885, -66.190829], [18.463317, -66.189328]]\n",
    "        # lat_min, \n",
    "\n",
    "        return geom, bounds # return a geojson object (polygon localized on a map)\n",
    "        #bounds are folium compatible\n",
    "\n",
    "def convert_tiff_to_numpy(tif_path):\n",
    "    # check if output_dir exists, if not create it\n",
    "    # check if file is an image (ends with .tif)\n",
    "    with rasterio.open(tif_path)as src:\n",
    "          image_array = src.read([1, 2, 3])  # Read bands 1, 2, and 3 in a single call\n",
    "          # Transpose the array for correct display (optional)\n",
    "          image_array = image_array.transpose(1, 2, 0)\n",
    "          return image_array    \n"
   ]
  },
  {
   "cell_type": "code",
   "execution_count": null,
   "id": "e3c8e7b8-ed6e-4d1c-96a6-1cf4f8813726",
   "metadata": {
    "tags": []
   },
   "outputs": [],
   "source": [
    "extract_coor_from_tiff_image(\"Pre_Event_Grids_In_TIFF/tile_9_86.tif\")"
   ]
  },
  {
   "cell_type": "code",
   "execution_count": null,
   "id": "2d42357b",
   "metadata": {},
   "outputs": [],
   "source": [
    "import multiprocessing as mp\n",
    "from joblib import Parallel, delayed\n",
    "\n",
    "def process_tif(path):\n",
    "    geom , bounds = extract_coor_from_tiff_image(path)\n",
    "    geom = Polygon(geom[\"coordinates\"][0])\n",
    "    return [path, geom]\n",
    "\n",
    "def table_tiff_geojson_fast(folder_tiff):\n",
    "    \"\"\"\n",
    "    create a geo dataframe from a tiff folder\n",
    "    \"\"\"\n",
    "    if os.path.exists(folder_tiff):\n",
    "        list_tifs = glob.glob(folder_tiff + \"/*.tif\")\n",
    "        gdf = gpd.GeoDataFrame(columns=[\"path\", \"geometry\"], index=range(len(list_tifs)))\n",
    "\n",
    "        num_cores = mp.cpu_count()  # Number of cores in your machine\n",
    "        print(\"number of cores : \", num_cores)\n",
    "        results = Parallel(n_jobs=num_cores)(delayed(process_tif)(path) for path in list_tifs)\n",
    "\n",
    "        for i, result in enumerate(results):\n",
    "            gdf.loc[i] = result\n",
    "\n",
    "        print(f\"{folder_tiff} has been converted into GeoJSON DataFrame\")\n",
    "        return gdf"
   ]
  },
  {
   "cell_type": "code",
   "execution_count": null,
   "id": "d7737265-155b-4b43-9026-f4740ea7ae0b",
   "metadata": {
    "tags": []
   },
   "outputs": [],
   "source": [
    "def table_tiff_geojson(folder_tiff):\n",
    "    \"\"\"\n",
    "    create a geo dataframe from a tiff folder\n",
    "    \"\"\"\n",
    "    if os.path.exists(folder_tiff):\n",
    "      list_tifs = glob.glob(folder_tiff + \"/*.tif\")\n",
    "\n",
    "      gdf = gpd.GeoDataFrame(columns=[\"path\", \"geometry\"])\n",
    "      for i, path in tqdm(enumerate(list_tifs)):\n",
    "        geom , bounds = extract_coor_from_tiff_image(path)\n",
    "        geom = Polygon(geom[\"coordinates\"][0])\n",
    "        gdf.loc[len(gdf)] = [list_tifs[i], geom] #geom ESPG 4326\n",
    "    print(f\"{folder_tiff} has been converted into GeoJSON DataFrame\")\n",
    "    return gdf"
   ]
  },
  {
   "cell_type": "code",
   "execution_count": null,
   "id": "3866f910",
   "metadata": {},
   "outputs": [],
   "source": [
    "%%time\n",
    "folder_tiff = \"Pre_Event_Grids_In_TIFF\"\n",
    "table_tiff_pre = table_tiff_geojson_fast(folder_tiff) #table_tiff_geojson(folder_tiff)"
   ]
  },
  {
   "cell_type": "code",
   "execution_count": null,
   "id": "f2cc2cc3",
   "metadata": {},
   "outputs": [],
   "source": [
    "%%time\n",
    "folder_tiff = \"Post_Event_Grids_In_TIFF\"\n",
    "table_tiff_post = table_tiff_geojson_fast(folder_tiff)"
   ]
  },
  {
   "cell_type": "code",
   "execution_count": null,
   "id": "5285456f",
   "metadata": {},
   "outputs": [],
   "source": [
    "print(\"Pre events :  \", len(table_tiff_pre))\n",
    "print(\"Post events :  \", len(table_tiff_post))"
   ]
  },
  {
   "cell_type": "code",
   "execution_count": null,
   "id": "d8b3f4e5-ca42-4e0f-8c40-200cc84fd401",
   "metadata": {
    "tags": []
   },
   "outputs": [],
   "source": [
    "#qurey points are the centroids of the footprint building gdf[\"centroids\"]\n",
    "from sklearn.neighbors import KDTree\n",
    "import time \n",
    "from shapely import Point\n",
    "#find the images where foot prints appears\n",
    "\n",
    "def matching_footprint_to_tiff_images(ft_gdf, table_tiff):\n",
    "      \"\"\"\n",
    "      Matching footprints with tiff images (by using centroids)\n",
    "      \"\"\"\n",
    "      t0 = time.time()\n",
    "      required_cols = [\"geometry\"]\n",
    "      if not all(col in ft_gdf.columns for col in required_cols):\n",
    "        raise ValueError(\"Missing required columns in ft_gdf.\")\n",
    "      if not all(col in table_tiff.columns for col in required_cols):\n",
    "        raise ValueError(\"Missing required columns in table_tiff.\")\n",
    "\n",
    "      # to compute distance btw these 2 figures they need to be put into the same geodesic referential system (GPS : lat, long)\n",
    "      ft_gdf = ft_gdf.set_crs('epsg:4326') #Geodesic coordinate\n",
    "      table_tiff = table_tiff.set_crs('epsg:4326')\n",
    "\n",
    "      #to use euclidian distance\n",
    "      ft_gdf = ft_gdf.to_crs('EPSG:3857') #EPSG:3857 Projected coordinate Mercator (Map)\n",
    "      table_tiff = table_tiff.to_crs('EPSG:3857')\n",
    "\n",
    "      centroid_query = np.array(list(zip(ft_gdf.centroid.x.to_numpy() , ft_gdf.centroid.y.to_numpy())))\n",
    "      centroid_table = np.array(list(zip(table_tiff.centroid.x.to_numpy() , table_tiff.centroid.y.to_numpy())))\n",
    "\n",
    "      print(\"creation of the KD Tree for tile centroid\")\n",
    "      print(\"number of footprints : \", len(centroid_query))\n",
    "      print(\"number of titles : \", len(centroid_table))\n",
    "        \n",
    "      tree = KDTree(centroid_table, leaf_size = 20, metric='euclidean')\n",
    "\n",
    "      print(\"query the Tree with the centroid of the footprints\")\n",
    "      distances, indices = tree.query(centroid_query, k=1) #each footprint centroid find its tile by finding the nearest tile centroid\n",
    "      response = [str(table_tiff.iloc[i][\"path\"]) for i in indices.squeeze(1)]\n",
    "      tile_centroids = [Point(centroid_table[i]) for i in indices.squeeze(1)]\n",
    "\n",
    "      df = {}\n",
    "\n",
    "      ft_gdf = ft_gdf.to_crs('epsg:4326')\n",
    "      df[\"path_to_image\"] = pd.Series(response) # associated images \n",
    "      df[\"distance\"] = pd.Series(distances[:,0]) #in meters\n",
    "      df[\"geometry\"] = ft_gdf[\"geometry\"].reset_index(drop=True) #associated footprints \n",
    "      df[\"centroid_tile\"] = gpd.GeoSeries(tile_centroids, crs='EPSG:3857').to_crs('epsg:4326')\n",
    "        \n",
    "      print(\"processing time : \", time.time() - t0, \"s\")\n",
    "      return gpd.GeoDataFrame(df)"
   ]
  },
  {
   "cell_type": "code",
   "execution_count": null,
   "id": "ed578cfd-b235-4c5b-a3ed-f8b351cae3ff",
   "metadata": {
    "tags": []
   },
   "outputs": [],
   "source": [
    "matching_table_pre = matching_footprint_to_tiff_images(gdf, table_tiff_pre)"
   ]
  },
  {
   "cell_type": "code",
   "execution_count": null,
   "id": "6fb0b013",
   "metadata": {},
   "outputs": [],
   "source": [
    "matching_table_post = matching_footprint_to_tiff_images(gdf, table_tiff_post)"
   ]
  },
  {
   "cell_type": "markdown",
   "id": "8996aa82",
   "metadata": {},
   "source": [
    "Analysis : The number of footprint is much higher than the number of houses in the tiff images since the available footprints are located all across the Puerto Rico Island. We have split the images into 150x150 m square chuncks thus we only select the footprint located at most at 75m of distance from the centroid tile. "
   ]
  },
  {
   "cell_type": "code",
   "execution_count": null,
   "id": "f8c82b13-1ca7-480d-8cef-0d52825487cb",
   "metadata": {
    "tags": []
   },
   "outputs": [],
   "source": [
    "matching_table_post[matching_table_post[\"distance\"] < 75].describe() # 580 866 rows"
   ]
  },
  {
   "cell_type": "markdown",
   "id": "ed042324",
   "metadata": {},
   "source": [
    "The building footrpints located at less than 75 meters from their associated tile centroid"
   ]
  },
  {
   "cell_type": "code",
   "execution_count": null,
   "id": "edf237c4-bceb-4868-9ccd-399a0737d875",
   "metadata": {
    "tags": []
   },
   "outputs": [],
   "source": [
    "m = gpd.GeoDataFrame(geometry=matching_table[matching_table[\"distance\"] < 75][\"geometry\"]).explore(color=\"blue\", name=\"footprint\")\n",
    "m = gpd.GeoDataFrame(geometry=matching_table[matching_table[\"distance\"] < 75][\"centroid_tile\"]).explore(m=m, color=\"red\",name=\"tile_centroids\")\n",
    "folium.LayerControl().add_to(m)\n",
    "m"
   ]
  },
  {
   "cell_type": "code",
   "execution_count": null,
   "id": "a9fef6ef-9748-4267-92f9-da47279b8518",
   "metadata": {
    "tags": []
   },
   "outputs": [],
   "source": [
    "dist = 75\n",
    "#pre event footprint extraction \n",
    "dataset_pre = matching_table_pre[matching_table_pre[\"distance\"] < dist] #43169 footprints are inside the San_Juan data set \n",
    "dataset_pre.to_csv(\"Pre_event_dataset_EY_path_dist_geometry_\" + str(dist) + \"m.csv\", index = False)\n",
    "\n",
    "dataset_post = matching_table_post[matching_table_post[\"distance\"] < dist] #43169 footprints are inside the San_Juan data set \n",
    "dataset_post.to_csv(\"Post_event_dataset_EY_path_dist_geometry_\" + str(dist) + \"m.csv\", index = False)"
   ]
  },
  {
   "cell_type": "code",
   "execution_count": null,
   "id": "b2c4e4d8-4afc-45e2-8201-bd034a3daa28",
   "metadata": {
    "tags": []
   },
   "outputs": [],
   "source": [
    "def calculate_distance_from_tiff(path):\n",
    "    with rasterio.open(path) as dataset:\n",
    "        # Get pixel resolution (size of each pixel)\n",
    "        x_resolution, y_resolution = dataset.res\n",
    "\n",
    "        # Get image dimensions (number of pixels in each dimension)\n",
    "        width = dataset.width\n",
    "        height = dataset.height\n",
    "\n",
    "        # Calculate distance covered in each dimension\n",
    "        distance_x = width * x_resolution\n",
    "        distance_y = height * y_resolution\n",
    "\n",
    "        return distance_x, distance_y\n"
   ]
  },
  {
   "cell_type": "code",
   "execution_count": null,
   "id": "56549be5-7f8b-4321-8932-d3d05e568d36",
   "metadata": {
    "tags": []
   },
   "outputs": [],
   "source": [
    "def data_gathering(data):\n",
    "    \"\"\"\n",
    "    from a filtered dataset with pair (image, footprint) convert the images into array\n",
    "    \"\"\"\n",
    "    list_path = data.path_to_image.unique()\n",
    "    res = {}\n",
    "    for path in tqdm(list_path):\n",
    "         output = data[data[\"path_to_image\"] == path]\n",
    "         res[path] = output.geometry.array\n",
    "    return res\n",
    "\n",
    "results_pre = data_gathering(dataset_pre)\n",
    "results_post = data_gathering(dataset_post)"
   ]
  },
  {
   "cell_type": "code",
   "execution_count": null,
   "id": "92b45801-1792-46cc-9fc9-3283afcd239c",
   "metadata": {
    "tags": []
   },
   "outputs": [],
   "source": [
    "def convert_tiff_to_jpeg(input_dir,output_dir):\n",
    "    \"\"\"\n",
    "    Converting tiff images to jpeg images.\n",
    "    \"\"\"\n",
    "    # check if output_dir exists, if not create it\n",
    "    if not os.path.exists(output_dir):\n",
    "        os.makedirs(output_dir)\n",
    "\n",
    "    for filename in os.listdir(input_dir):\n",
    "        # check if file is an image (ends with .tif)\n",
    "        if filename.endswith('.tif'):\n",
    "            img = Image.open(os.path.join(input_dir, filename))\n",
    "        \n",
    "            # check if image is RGB mode, if not convert it\n",
    "            if img.mode != 'RGB':\n",
    "                img = img.convert('RGB')\n",
    "        \n",
    "            # create new filename, replace .tif with .jpg\n",
    "            output_filename = os.path.splitext(filename)[0] + '.jpg'\n",
    "        \n",
    "            # save the image in JPEG format\n",
    "            img.save(os.path.join(output_dir, output_filename), 'JPEG', quality=100)\n",
    "    print(\"Conversion from TIFF to JPEG completed.\")"
   ]
  },
  {
   "cell_type": "code",
   "execution_count": null,
   "id": "74fb5eae-42ff-48f3-861d-e24d5c82acf5",
   "metadata": {
    "tags": []
   },
   "outputs": [],
   "source": [
    "from rasterio.mask import mask\n",
    "from rasterio.plot import show\n",
    "import geopandas as gdp\n",
    "\n",
    "image_path = np.random.choice(list(results_pre.keys()))\n",
    "info = results_pre[image_path] #extract the associated building footprint\n",
    "print(image_path , \" : \", info)\n",
    "\n",
    "with rasterio.open(image_path) as src:\n",
    "        # Get the CRS (Coordinate Reference System) of the TIFF image\n",
    "        crs = src.crs\n",
    "        polygons = gdp.GeoDataFrame(geometry = info) \n",
    "        polygons = polygons.to_crs(crs)\n",
    "        # Create subplot\n",
    "        fig, (ax1, ax2) = plt.subplots(1, 2, figsize=(12,6))\n",
    "\n",
    "        # Plot RGB image\n",
    "        show(src, ax=ax1)\n",
    "        ax1.set_title('RGB Image')\n",
    "        \n",
    "        # Plot building footprint\n",
    "        polygons.plot(ax=ax2)\n",
    "        ax2.set_title('Building Footprint Polygon')\n",
    "\n",
    "        plt.show()\n"
   ]
  },
  {
   "cell_type": "code",
   "execution_count": null,
   "id": "5c805523",
   "metadata": {},
   "outputs": [],
   "source": [
    "\n",
    "image_path = \"Post_Event_Grids_In_TIFF/tile_71_73.tif\"\n",
    "with rasterio.open(image_path) as src:\n",
    "        # Get the CRS (Coordinate Reference System) of the TIFF image\n",
    "        crs = src.crs\n",
    "        polygons = gdp.GeoDataFrame(geometry = info) \n",
    "        polygons = polygons.to_crs(crs)\n",
    "        # Create subplot\n",
    "        fig, (ax1, ax2) = plt.subplots(1, 2, figsize=(12,6))\n",
    "\n",
    "        # Plot RGB image\n",
    "        show(src, ax=ax1)\n",
    "        ax1.set_title('RGB Image')\n",
    "        \n",
    "        # Plot building footprint\n",
    "        polygons.plot(ax=ax2)\n",
    "        ax2.set_title('Building Footprint Polygon')\n",
    "\n",
    "        plt.show()\n"
   ]
  },
  {
   "cell_type": "markdown",
   "id": "a112f0c0-af7e-4a20-91f2-beb3733c61b0",
   "metadata": {},
   "source": [
    "# Display RGB image with Building Footprint"
   ]
  },
  {
   "cell_type": "code",
   "execution_count": null,
   "id": "b987dc53-7c98-4f07-a13e-44ef9fc83eb7",
   "metadata": {
    "tags": []
   },
   "outputs": [],
   "source": [
    "geom , bounds = extract_coor_from_tiff_image(image_path)\n",
    "print(bounds)\n",
    "polygons_ = info\n",
    "\n",
    "# Filter out empty or missing polygons\n",
    "valid_polygons = [polygon for polygon in polygons_ if not polygon.is_empty]\n",
    "\n",
    "# Create the map\n",
    "m = folium.Map(location=bounds[0], zoom_start=15)\n",
    "\n",
    "# Add valid polygons to the map\n",
    "bbox = folium.GeoJson(\n",
    "    data={\"type\": \"FeatureCollection\", \"features\": [\n",
    "        {\"type\": \"Feature\", \"geometry\": shapely.geometry.mapping(polygon)} for polygon in valid_polygons\n",
    "    ]},\n",
    "    style_function=lambda x: {'color': 'blue'}\n",
    ").add_to(m)\n",
    "\n",
    "# Add the image overlay\n",
    "img = folium.raster_layers.ImageOverlay(\n",
    "    name=\"pre event Puerto Rico\",\n",
    "    bounds=bounds,\n",
    "    image=convert_tiff_to_numpy(image_path),\n",
    "    opacity=1,\n",
    "    cross_origin=False,\n",
    "    zindex=1\n",
    ").add_to(m)\n",
    "\n",
    "# Add a popup\n",
    "folium.Popup(\"pre event Puerto Rico\").add_to(m)\n",
    "\n",
    "# Show the map\n",
    "m\n"
   ]
  },
  {
   "cell_type": "code",
   "execution_count": null,
   "id": "f0a83f1e-7a68-49d0-a395-fc09c419d9f6",
   "metadata": {
    "tags": []
   },
   "outputs": [],
   "source": [
    "from shapely.ops import cascaded_union\n",
    "from rasterio.plot import reshape_as_image\n",
    "from rasterio import features\n",
    "import re \n",
    "\n",
    "#Generate polygon\n",
    "def poly_from_utm(polygon, transform):\n",
    "    poly_pts = []\n",
    "\n",
    "    poly = cascaded_union(polygon)\n",
    "    for i in np.array(poly.exterior.coords):\n",
    "\n",
    "        # Convert polygons to the image CRS\n",
    "        poly_pts.append(~transform * tuple(i))\n",
    "\n",
    "    # Generate a polygon object\n",
    "    new_poly = Polygon(poly_pts)\n",
    "    return new_poly\n",
    "\n",
    "    \n",
    "def generate_mask(image_path, shapes, save_path_o):\n",
    "    \"\"\"\n",
    "    image_path : string \n",
    "    shapes : list of polygones associated to image_path \n",
    "    \"\"\" \n",
    "\n",
    "    if not os.path.exists(save_path_o):\n",
    "        os.makedirs(save_path_o)\n",
    "\n",
    "    with rasterio.open(image_path, \"r\") as src: #read tiff image\n",
    "\n",
    "        raster_image = src.read()\n",
    "        raster_meta = src.meta\n",
    "        crs_image = raster_meta[\"crs\"]\n",
    "\n",
    "    train_df = gpd.GeoDataFrame(geometry = shapes).to_crs(crs_image) #create a geo pandas with the footprints \n",
    "\n",
    "    poly_shp = []\n",
    "    im_size = (src.meta['height'], src.meta['width'])\n",
    "    for num, row in train_df.iterrows():\n",
    "        if row['geometry'].geom_type == 'Polygon':\n",
    "            poly = poly_from_utm(row['geometry'], src.meta['transform'])\n",
    "            poly_shp.append((poly, num))\n",
    "        else:\n",
    "            for p in row['geometry']:\n",
    "                poly = poly_from_utm(p, src.meta['transform'])\n",
    "                poly_shp.append((poly,num))\n",
    "    \n",
    "    #create a mask from the footprint\n",
    "    mask = features.rasterize(shapes=poly_shp,\n",
    "                     out_shape=im_size, \n",
    "                     fill = -1,\n",
    "                     \n",
    "                    )\n",
    "\n",
    "    \"\"\"# Create subplot\n",
    "    fig, (ax1, ax2) = plt.subplots(1, 2, figsize=(12,6))\n",
    "\n",
    "    # Plot RGB image\n",
    "    ax1.imshow(image.read().transpose(1, 2, 0))\n",
    "    ax1.set_title('RGB Image')\n",
    "\n",
    "    # Plot building footprint\n",
    "    ax2.imshow(mask)\n",
    "    ax2.set_title('Building Footprint Mask')\n",
    "\n",
    "    plt.show();\n",
    "    \"\"\"\n",
    "\n",
    "    delimiters = \"/. \"\n",
    "    mask = mask.astype(\"uint16\")\n",
    "\n",
    "    save_path = save_path_o + \"/\" + re.split('[{}]+'.format(''.join(map(re.escape, delimiters))), image_path)[1] + \"_mask.tif\"\n",
    "    bin_mask_meta = src.meta.copy()\n",
    "    bin_mask_meta.update({'count': 1})\n",
    "    with rasterio.open(save_path, 'w', **bin_mask_meta) as dst:\n",
    "        dst.write(mask * 255, 1)\n"
   ]
  },
  {
   "cell_type": "code",
   "execution_count": null,
   "id": "c5a41746",
   "metadata": {},
   "outputs": [],
   "source": [
    "%%time\n",
    "#converting tiff images into JPEG images\n",
    "convert_tiff_to_jpeg(input_dir = \"Pre_Event_Grids_In_TIFF\", output_dir = \"Pre_Event_Grids_In_jpeg\")"
   ]
  },
  {
   "cell_type": "code",
   "execution_count": null,
   "id": "f4f89c30",
   "metadata": {},
   "outputs": [],
   "source": [
    "convert_tiff_to_jpeg(input_dir = \"Post_Event_Grids_In_TIFF\", output_dir = \"Post_Event_Grids_In_jpeg\")"
   ]
  },
  {
   "cell_type": "code",
   "execution_count": null,
   "id": "ee357df0-3607-4bba-93dd-515f56da9deb",
   "metadata": {
    "tags": []
   },
   "outputs": [],
   "source": [
    "convert_tiff_to_jpeg(input_dir = \"Pre_Event_Grids_In_TIFF_mask\",output_dir=\"Pre_Event_Grids_In_TIFF_mask_jpeg\")"
   ]
  },
  {
   "cell_type": "code",
   "execution_count": null,
   "id": "1bc02855-0911-4583-b6cd-7d32362d941e",
   "metadata": {
    "tags": []
   },
   "outputs": [],
   "source": [
    "def convert_tiff_images_to_jpeg(image_paths_tiff, output_dir=\"Pre_Event_Grids_In_jpeg\"):\n",
    "    # check if output_dir exists, if not create it\n",
    "    if not os.path.exists(output_dir):\n",
    "        os.makedirs(output_dir)\n",
    "\n",
    "    for filename in tqdm(image_paths_tiff):\n",
    "        # check if file is an image (ends with .tif)\n",
    "        if filename.endswith('.tif'):\n",
    "            img = Image.open(os.path.join(filename))\n",
    "        \n",
    "            # check if image is RGB mode, if not convert it\n",
    "            if img.mode != 'RGB':\n",
    "                img = img.convert('RGB')\n",
    "        \n",
    "            # create new filename, replace .tif with .jpg\n",
    "            delimiters = \"/. \"\n",
    "            output_filename = re.split('[{}]+'.format(''.join(map(re.escape, delimiters))), filename)[1] + '.jpg'\n",
    "        \n",
    "            # save the image in JPEG format\n",
    "            img.save(os.path.join(output_dir, output_filename), 'JPEG', quality=100)\n",
    "    print(\"Conversion from TIFF to JPEG completed.\")"
   ]
  },
  {
   "cell_type": "code",
   "execution_count": null,
   "id": "69d02f58",
   "metadata": {},
   "outputs": [],
   "source": [
    "#converting the selected images to JPEG format \n",
    "convert_tiff_images_to_jpeg(results_pre.keys(),\"Pre_Event_Grids_In_jpeg\") "
   ]
  },
  {
   "cell_type": "code",
   "execution_count": null,
   "id": "f94f722e",
   "metadata": {},
   "outputs": [],
   "source": [
    "#converting the selected images to JPEG format \n",
    "convert_tiff_images_to_jpeg(results_post.keys(),\"Post_Event_Grids_In_jpeg\") "
   ]
  },
  {
   "cell_type": "code",
   "execution_count": null,
   "id": "0c0ae39c",
   "metadata": {},
   "outputs": [],
   "source": [
    "#generate the masks\n",
    "save_path_o = \"Pre_Event_Grids_In_TIFF_mask\" # \"Post_Event_Grids_In_TIFF_mask\"\n",
    "\n",
    "for image_path in tqdm(results_pre.keys()):\n",
    "    generate_mask(image_path, results_pre[image_path], save_path_o)"
   ]
  },
  {
   "cell_type": "code",
   "execution_count": null,
   "id": "92fbcaae",
   "metadata": {},
   "outputs": [],
   "source": [
    "save_path_o = \"Post_Event_Grids_In_TIFF_mask\"\n",
    "\n",
    "for image_path in tqdm(results_post.keys()):\n",
    "    generate_mask(image_path, results_post[image_path], save_path_o)\n"
   ]
  },
  {
   "cell_type": "markdown",
   "id": "0e351cd4-85d2-4a76-9af2-7851fa2e08dd",
   "metadata": {},
   "source": [
    "# Converting "
   ]
  },
  {
   "cell_type": "code",
   "execution_count": null,
   "id": "e2ee306d-f4a9-4ed3-92e1-a58d3d93e2c6",
   "metadata": {
    "tags": []
   },
   "outputs": [],
   "source": [
    "convert_tiff_to_jpeg(input_dir=\"Pre_Event_Grids_In_TIFF_mask\",output_dir=\"Pre_Event_Grids_mask_jpeg\")"
   ]
  },
  {
   "cell_type": "code",
   "execution_count": null,
   "id": "d0a01cc5",
   "metadata": {},
   "outputs": [],
   "source": [
    "convert_tiff_to_jpeg(input_dir=\"Post_Event_Grids_In_TIFF_mask\",output_dir=\"Post_Event_Grids_mask_jpeg\")"
   ]
  },
  {
   "cell_type": "markdown",
   "id": "7e863050",
   "metadata": {},
   "source": [
    "Compressing mask folder is not mandatory"
   ]
  },
  {
   "cell_type": "code",
   "execution_count": null,
   "id": "c741095e-bee5-4396-86ff-0d02b9200af5",
   "metadata": {},
   "outputs": [],
   "source": [
    "import shutil\n",
    "\n",
    "# Specify the directory you want to zip\n",
    "dir_name = 'Pre_Event_Grids_In_TIFF_mask_jpeg'\n",
    "\n",
    "# Create a zip archive\n",
    "output_filename = 'Pre_Event_Grids_In_TIFF_mask_jpeg'\n",
    "shutil.make_archive(output_filename, 'zip', dir_name)"
   ]
  },
  {
   "cell_type": "code",
   "execution_count": null,
   "id": "4e8bdba0-3d2b-49fc-94a6-adf05288f024",
   "metadata": {
    "tags": []
   },
   "outputs": [],
   "source": [
    "# Specify the directory you want to zip\n",
    "dir_name = 'Post_Event_Grids_In_TIFF_jpeg'\n",
    "\n",
    "# Create a zip archive\n",
    "output_filename = 'Post_Event_Grids_In_TIFF_jpeg'\n",
    "shutil.make_archive(output_filename, 'zip', dir_name)"
   ]
  }
 ],
 "metadata": {
  "kernelspec": {
   "display_name": "Python 3 (ipykernel)",
   "language": "python",
   "name": "python3"
  },
  "language_info": {
   "codemirror_mode": {
    "name": "ipython",
    "version": 3
   },
   "file_extension": ".py",
   "mimetype": "text/x-python",
   "name": "python",
   "nbconvert_exporter": "python",
   "pygments_lexer": "ipython3",
   "version": "3.11.8"
  }
 },
 "nbformat": 4,
 "nbformat_minor": 5
}
