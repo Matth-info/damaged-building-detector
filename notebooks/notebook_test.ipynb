{
 "cells": [
  {
   "cell_type": "markdown",
   "metadata": {},
   "source": [
    "# Test Notebook"
   ]
  },
  {
   "cell_type": "code",
   "execution_count": 1,
   "metadata": {},
   "outputs": [],
   "source": [
    "import sys\n",
    "import os\n",
    "sys.path.append(os.path.abspath('../src'))"
   ]
  },
  {
   "cell_type": "code",
   "execution_count": 2,
   "metadata": {},
   "outputs": [],
   "source": [
    "# In a Jupyter notebook or IPython environment, run this in the first cell\n",
    "%load_ext autoreload\n",
    "%autoreload 2"
   ]
  },
  {
   "cell_type": "code",
   "execution_count": 3,
   "metadata": {},
   "outputs": [],
   "source": [
    "%reload_ext autoreload"
   ]
  },
  {
   "cell_type": "markdown",
   "metadata": {},
   "source": [
    "### Test New Datasets"
   ]
  },
  {
   "cell_type": "markdown",
   "metadata": {},
   "source": [
    "### Test New Models "
   ]
  },
  {
   "cell_type": "code",
   "execution_count": 3,
   "metadata": {},
   "outputs": [
    {
     "name": "stderr",
     "output_type": "stream",
     "text": [
      "Some weights of SegformerForSemanticSegmentation were not initialized from the model checkpoint at nvidia/segformer-b0-finetuned-ade-512-512 and are newly initialized because the shapes did not match:\n",
      "- decode_head.classifier.bias: found shape torch.Size([150]) in the checkpoint and torch.Size([2]) in the model instantiated\n",
      "- decode_head.classifier.weight: found shape torch.Size([150, 256, 1, 1]) in the checkpoint and torch.Size([2, 256, 1, 1]) in the model instantiated\n",
      "You should probably TRAIN this model on a down-stream task to be able to use it for predictions and inference.\n"
     ]
    },
    {
     "name": "stdout",
     "output_type": "stream",
     "text": [
      "Encoder weights have been frozen.\n"
     ]
    }
   ],
   "source": [
    "from models import Segformer, Unet, ResNet_Unet\n",
    "model_name = \"nvidia/segformer-b0-finetuned-ade-512-512\"\n",
    "label2id = {\"building\": 1, \"background\": 0 } #{\"cloud\": 1, \"no_cloud\": 0 }\n",
    "id2label = {v: k for k,v in label2id.items()}\n",
    "num_labels = 2\n",
    "freeze_encoder = True\n",
    "\n",
    "model = Segformer(model_name=model_name,\n",
    "                  label2id=label2id,\n",
    "                  num_labels=num_labels,\n",
    "                  freeze_encoder=freeze_encoder\n",
    "                  )"
   ]
  },
  {
   "cell_type": "code",
   "execution_count": 50,
   "metadata": {},
   "outputs": [],
   "source": [
    "from datasets import  Puerto_Rico_Building_Dataset\n",
    "from torch.utils.data import DataLoader\n",
    "import albumentations as A\n",
    "from albumentations.pytorch import ToTensorV2\n",
    "from training.augmentations import get_val_augmentation_pipeline\n",
    "\n",
    "# Define Albumentations transforms with normalization\n",
    "transform = get_val_augmentation_pipeline(image_size=(512, 512), max_pixel_value=1, mean=(0,0,0), std=(1,1,1))"
   ]
  },
  {
   "cell_type": "markdown",
   "metadata": {},
   "source": [
    "### Test Dataset "
   ]
  },
  {
   "cell_type": "code",
   "execution_count": 51,
   "metadata": {},
   "outputs": [],
   "source": [
    "from models import AutoEncoder\n",
    "from training.augmentations import get_val_augmentation_pipeline\n",
    "import torch.nn as nn\n",
    "\n",
    "cloud_filter_params = {\"model_class\": AutoEncoder(num_input_channel=3,base_channel_size=64), \n",
    "                        \"device\": \"cuda\", \n",
    "                        \"file_path\": \"../models/AutoEncoder_Cloud_Detector_0.001297.pth\",\n",
    "                        \"threshold\": 0.001297, \n",
    "                        \"loss\": nn.MSELoss,\n",
    "                        \"batch_size\": 32\n",
    "                        }"
   ]
  },
  {
   "cell_type": "code",
   "execution_count": 72,
   "metadata": {},
   "outputs": [
    {
     "name": "stdout",
     "output_type": "stream",
     "text": [
      "<class 'models.Auto_Encoder.AutoEncoder'> Model loaded from ../models/AutoEncoder_Cloud_Detector_0.001297.pth\n",
      "A AutoEncoder model has been loaded from ../models/AutoEncoder_Cloud_Detector_0.001297.pth on cuda.\n"
     ]
    }
   ],
   "source": [
    "data_puerto = Puerto_Rico_Building_Dataset(\n",
    "    base_dir=\"../data/Puerto_Rico_dataset/tiff_tiles\",\n",
    "    pre_disaster_dir=\"Pre_Event_Grids_In_TIFF\",\n",
    "    post_disaster_dir=\"Post_Event_Grids_In_TIFF\",\n",
    "    mask_dir=\"Post_Event_Grids_In_TIFF_mask\",\n",
    "    transform=transform,\n",
    "    extension=\"tif\",\n",
    "    cloud_filter_params=cloud_filter_params,\n",
    "    preprocessing_mode=\"online\",\n",
    "    filtered_list_path=None\n",
    "    )"
   ]
  },
  {
   "cell_type": "code",
   "execution_count": 100,
   "metadata": {},
   "outputs": [
    {
     "name": "stdout",
     "output_type": "stream",
     "text": [
      "ResNet_UNET Model loaded from ../models/xDB_ResNet18_Unet_20241130-201241_best_model.pth\n"
     ]
    },
    {
     "name": "stderr",
     "output_type": "stream",
     "text": [
      "/home/onyxia/work/damaged-building-detector/src/models/ResNet_Unet.py:157: FutureWarning: You are using `torch.load` with `weights_only=False` (the current default value), which uses the default pickle module implicitly. It is possible to construct malicious pickle data which will execute arbitrary code during unpickling (See https://github.com/pytorch/pytorch/blob/main/SECURITY.md#untrusted-models for more details). In a future release, the default value for `weights_only` will be flipped to `True`. This limits the functions that could be executed during unpickling. Arbitrary objects will no longer be allowed to be loaded via this mode unless they are explicitly allowlisted by the user via `torch.serialization.add_safe_globals`. We recommend you start setting `weights_only=True` for any use case where you don't have full control of the loaded file. Please open an issue on GitHub for any issues related to this experimental feature.\n",
      "  self.load_state_dict(torch.load(file_path))\n"
     ]
    }
   ],
   "source": [
    "from models import ResNet_UNET\n",
    "\n",
    "model = ResNet_UNET(\n",
    "        in_channels=3,\n",
    "        out_channels=2,\n",
    "        backbone_name=\"resnet18\",\n",
    "        pretrained=True,\n",
    "        freeze_backbone=True,\n",
    "    )\n",
    "model = model.load(file_path=\"../models/xDB_ResNet18_Unet_20241130-201241_best_model.pth\").to(\"cuda\")"
   ]
  },
  {
   "cell_type": "code",
   "execution_count": 101,
   "metadata": {},
   "outputs": [],
   "source": [
    "data_dl = DataLoader(dataset=data_puerto, batch_size=16, shuffle=True)"
   ]
  },
  {
   "cell_type": "code",
   "execution_count": 102,
   "metadata": {},
   "outputs": [],
   "source": [
    "inputs = next(iter(data_dl))\n",
    "outputs = model.predict(inputs[\"pre_image\"].to(\"cuda\"))"
   ]
  },
  {
   "cell_type": "code",
   "execution_count": null,
   "metadata": {},
   "outputs": [],
   "source": [
    "from utils import display_semantic_predictions_batch\n",
    "\n",
    "display_semantic_predictions_batch(images=inputs[\"pre_image\"], \n",
    "                                    mask_predictions=outputs,\n",
    "                                    mask_labels=inputs[\"mask\"], \n",
    "                                    normalized=None, \n",
    "                                    folder_path=None\n",
    "                                    )"
   ]
  },
  {
   "cell_type": "code",
   "execution_count": 105,
   "metadata": {},
   "outputs": [
    {
     "name": "stdout",
     "output_type": "stream",
     "text": [
      "Model loaded from ../models/xDB_ResNet50_MaskRCNN_checkpoint.pth\n"
     ]
    }
   ],
   "source": [
    "from models import Maskrcnn\n",
    "# Initialize the Mask R-CNN model\n",
    "from models import Maskrcnn\n",
    "maskrcnn = Maskrcnn(num_classes=2, hidden_layer_dim=256, pretrained=False)\n",
    "maskrcnn.load(\"../models/xDB_ResNet50_MaskRCNN_checkpoint.pth\")"
   ]
  },
  {
   "cell_type": "code",
   "execution_count": null,
   "metadata": {},
   "outputs": [],
   "source": [
    "from utils import display_semantic_predictions_batch\n",
    "import numpy as np\n",
    "import torch\n",
    "maskrcnn.eval()\n",
    "with torch.no_grad():\n",
    "    images = inputs[\"pre_image\"].to(\"cuda\")\n",
    "    mask_predictions = maskrcnn.predict_sem_seg(images = images)"
   ]
  },
  {
   "cell_type": "code",
   "execution_count": null,
   "metadata": {},
   "outputs": [],
   "source": [
    "display_semantic_predictions_batch(images=inputs[\"pre_image\"], \n",
    "                                    mask_predictions=mask_predictions,\n",
    "                                    mask_labels=inputs[\"mask\"], \n",
    "                                    normalized=None, \n",
    "                                    folder_path=None\n",
    "                                    )"
   ]
  },
  {
   "cell_type": "code",
   "execution_count": null,
   "metadata": {},
   "outputs": [],
   "source": [
    "from utils import display_instance_predictions_batch\n",
    "maskrcnn.eval()\n",
    "with torch.no_grad():\n",
    "    images = inputs[\"pre_image\"].to(\"cuda\")\n",
    "    instances_predictions = maskrcnn.predict(images = images)\n",
    "    \n",
    "display_instance_predictions_batch(images, mask_predictions, score_threshold=0.6, max_images=len(images), display=[\"mask\",\"boxes\"])"
   ]
  },
  {
   "cell_type": "code",
   "execution_count": null,
   "metadata": {},
   "outputs": [],
   "source": []
  }
 ],
 "metadata": {
  "kernelspec": {
   "display_name": "base",
   "language": "python",
   "name": "python3"
  },
  "language_info": {
   "codemirror_mode": {
    "name": "ipython",
    "version": 3
   },
   "file_extension": ".py",
   "mimetype": "text/x-python",
   "name": "python",
   "nbconvert_exporter": "python",
   "pygments_lexer": "ipython3",
   "version": "3.12.6"
  }
 },
 "nbformat": 4,
 "nbformat_minor": 2
}
