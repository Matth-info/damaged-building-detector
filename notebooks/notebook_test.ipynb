{
 "cells": [
  {
   "cell_type": "markdown",
   "metadata": {},
   "source": [
    "# Test Notebook"
   ]
  },
  {
   "cell_type": "code",
   "execution_count": 1,
   "metadata": {},
   "outputs": [],
   "source": [
    "import sys\n",
    "import os\n",
    "sys.path.append(os.path.abspath('../src'))"
   ]
  },
  {
   "cell_type": "code",
   "execution_count": 2,
   "metadata": {},
   "outputs": [],
   "source": [
    "# In a Jupyter notebook or IPython environment, run this in the first cell\n",
    "%load_ext autoreload\n",
    "%autoreload 2"
   ]
  },
  {
   "cell_type": "code",
   "execution_count": 12,
   "metadata": {},
   "outputs": [],
   "source": [
    "%reload_ext autoreload"
   ]
  },
  {
   "cell_type": "code",
   "execution_count": 26,
   "metadata": {},
   "outputs": [],
   "source": [
    "from models import SiameseResNetUNet\n",
    "model = SiameseResNetUNet(\n",
    "    in_channels=3,\n",
    "    out_channels=5,\n",
    "    backbone_name=\"resnet18\",\n",
    "    pretrained=True,\n",
    "    freeze_backbone=True,\n",
    "    mode=\"conc\")"
   ]
  },
  {
   "cell_type": "code",
   "execution_count": 5,
   "metadata": {},
   "outputs": [
    {
     "name": "stdout",
     "output_type": "stream",
     "text": [
      "Loaded 3 train labels.\n"
     ]
    }
   ],
   "source": [
    "from datasets import xDB_Siamese_Dataset\n",
    "from training.augmentations import get_val_augmentation_pipeline\n",
    "\n",
    "data = xDB_Siamese_Dataset(origin_dir=\"../data/data_samples/xDB/tier3\", \n",
    "                           transform=get_val_augmentation_pipeline()\n",
    "                           )"
   ]
  },
  {
   "cell_type": "code",
   "execution_count": 6,
   "metadata": {},
   "outputs": [],
   "source": [
    "from torch.utils.data import DataLoader\n",
    "train_dl = DataLoader(\n",
    "    dataset=data,\n",
    "    batch_size=1,\n",
    "    shuffle=True\n",
    ")"
   ]
  },
  {
   "cell_type": "code",
   "execution_count": null,
   "metadata": {},
   "outputs": [
    {
     "name": "stderr",
     "output_type": "stream",
     "text": [
      "INFO:root:Experiment logs are recorded at ../runs\\Test_20241205-195536\n",
      "INFO:root:Epoch 1\n",
      "INFO:root:--------------------\n",
      "INFO:root:Epoch 1 - Validation Phase\n",
      "INFO:root:--------------------\n",
      "Validation Epoch 1: 100%|██████████| 3/3 [00:00<00:00,  6.66batch/s, Loss=0.879]\n",
      "INFO:root:Epoch 2\n",
      "INFO:root:--------------------\n",
      "INFO:root:Epoch 2 - Validation Phase\n",
      "INFO:root:--------------------\n",
      "Validation Epoch 2: 100%|██████████| 3/3 [00:00<00:00,  7.10batch/s, Loss=0.878]\n",
      "INFO:root:Epoch 3\n",
      "INFO:root:--------------------\n",
      "INFO:root:Epoch 3 - Validation Phase\n",
      "INFO:root:--------------------\n",
      "Validation Epoch 3: 100%|██████████| 3/3 [00:00<00:00,  5.67batch/s, Loss=0.878]\n",
      "INFO:root:Epoch 4\n",
      "INFO:root:--------------------\n",
      "INFO:root:Epoch 4 - Validation Phase\n",
      "INFO:root:--------------------\n",
      "Validation Epoch 4: 100%|██████████| 3/3 [00:00<00:00,  6.01batch/s, Loss=0.876]\n",
      "INFO:root:Epoch 5\n",
      "INFO:root:--------------------\n",
      "INFO:root:Epoch 5 - Validation Phase\n",
      "INFO:root:--------------------\n",
      "Validation Epoch 5: 100%|██████████| 3/3 [00:00<00:00,  5.61batch/s, Loss=0.9]  \n",
      "INFO:root:Epoch 6\n",
      "INFO:root:--------------------\n",
      "INFO:root:Epoch 6 - Validation Phase\n",
      "INFO:root:--------------------\n",
      "Validation Epoch 6: 100%|██████████| 3/3 [00:00<00:00,  6.29batch/s, Loss=0.871]\n",
      "INFO:root:Epoch 7\n",
      "INFO:root:--------------------\n",
      "INFO:root:Epoch 7 - Validation Phase\n",
      "INFO:root:--------------------\n",
      "Validation Epoch 7: 100%|██████████| 3/3 [00:00<00:00,  5.47batch/s, Loss=0.867]\n",
      "INFO:root:Epoch 8\n",
      "INFO:root:--------------------\n",
      "INFO:root:Epoch 8 - Validation Phase\n",
      "INFO:root:--------------------\n",
      "Validation Epoch 8: 100%|██████████| 3/3 [00:00<00:00,  5.52batch/s, Loss=0.859]\n",
      "INFO:root:Epoch 9\n",
      "INFO:root:--------------------\n",
      "INFO:root:Epoch 9 - Validation Phase\n",
      "INFO:root:--------------------\n",
      "Validation Epoch 9: 100%|██████████| 3/3 [00:00<00:00,  5.88batch/s, Loss=0.85] \n",
      "INFO:root:Epoch 10\n",
      "INFO:root:--------------------\n",
      "INFO:root:Epoch 10 - Validation Phase\n",
      "INFO:root:--------------------\n",
      "Validation Epoch 10: 100%|██████████| 3/3 [00:00<00:00,  5.61batch/s, Loss=0.881]\n",
      "INFO:root:Epoch 11\n",
      "INFO:root:--------------------\n",
      "INFO:root:Epoch 11 - Validation Phase\n",
      "INFO:root:--------------------\n",
      "Validation Epoch 11: 100%|██████████| 3/3 [00:00<00:00,  5.24batch/s, Loss=0.838]\n",
      "INFO:root:Epoch 12\n",
      "INFO:root:--------------------\n",
      "INFO:root:Epoch 12 - Validation Phase\n",
      "INFO:root:--------------------\n",
      "Validation Epoch 12: 100%|██████████| 3/3 [00:00<00:00,  5.78batch/s, Loss=0.87] \n",
      "INFO:root:Epoch 13\n",
      "INFO:root:--------------------\n",
      "INFO:root:Epoch 13 - Validation Phase\n",
      "INFO:root:--------------------\n",
      "Validation Epoch 13: 100%|██████████| 3/3 [00:00<00:00,  5.31batch/s, Loss=0.81] \n",
      "INFO:root:Epoch 14\n",
      "INFO:root:--------------------\n",
      "INFO:root:Epoch 14 - Validation Phase\n",
      "INFO:root:--------------------\n",
      "Validation Epoch 14: 100%|██████████| 3/3 [00:00<00:00,  5.53batch/s, Loss=0.802]\n",
      "INFO:root:Epoch 15\n",
      "INFO:root:--------------------\n",
      "INFO:root:Epoch 15 - Validation Phase\n",
      "INFO:root:--------------------\n",
      "Validation Epoch 15: 100%|██████████| 3/3 [00:00<00:00,  5.23batch/s, Loss=0.805]\n",
      "INFO:root:Epoch 16\n",
      "INFO:root:--------------------\n",
      "INFO:root:Epoch 16 - Validation Phase\n",
      "INFO:root:--------------------\n",
      "Validation Epoch 16: 100%|██████████| 3/3 [00:00<00:00,  5.69batch/s, Loss=0.789]\n",
      "INFO:root:Epoch 17\n",
      "INFO:root:--------------------\n",
      "INFO:root:Epoch 17 - Validation Phase\n",
      "INFO:root:--------------------\n",
      "Validation Epoch 17: 100%|██████████| 3/3 [00:00<00:00,  5.73batch/s, Loss=0.794]\n",
      "INFO:root:Epoch 18\n",
      "INFO:root:--------------------\n",
      "INFO:root:Epoch 18 - Validation Phase\n",
      "INFO:root:--------------------\n",
      "Validation Epoch 18: 100%|██████████| 3/3 [00:00<00:00,  5.10batch/s, Loss=0.782]\n",
      "INFO:root:Epoch 19\n",
      "INFO:root:--------------------\n",
      "INFO:root:Epoch 19 - Validation Phase\n",
      "INFO:root:--------------------\n",
      "Validation Epoch 19: 100%|██████████| 3/3 [00:00<00:00,  5.76batch/s, Loss=0.789]\n",
      "INFO:root:Epoch 20\n",
      "INFO:root:--------------------\n",
      "INFO:root:Epoch 20 - Validation Phase\n",
      "INFO:root:--------------------\n",
      "Validation Epoch 20: 100%|██████████| 3/3 [00:00<00:00,  5.58batch/s, Loss=0.845]\n",
      "INFO:root:Epoch 21\n",
      "INFO:root:--------------------\n",
      "INFO:root:Epoch 21 - Validation Phase\n",
      "INFO:root:--------------------\n",
      "Validation Epoch 21: 100%|██████████| 3/3 [00:00<00:00,  5.42batch/s, Loss=0.775]\n",
      "INFO:root:Epoch 22\n",
      "INFO:root:--------------------\n",
      "INFO:root:Epoch 22 - Validation Phase\n",
      "INFO:root:--------------------\n",
      "Validation Epoch 22: 100%|██████████| 3/3 [00:00<00:00,  5.40batch/s, Loss=0.774]\n",
      "INFO:root:Epoch 23\n",
      "INFO:root:--------------------\n",
      "INFO:root:Epoch 23 - Validation Phase\n",
      "INFO:root:--------------------\n",
      "Validation Epoch 23: 100%|██████████| 3/3 [00:00<00:00,  5.61batch/s, Loss=0.782]\n",
      "INFO:root:Epoch 24\n",
      "INFO:root:--------------------\n",
      "INFO:root:Epoch 24 - Validation Phase\n",
      "INFO:root:--------------------\n",
      "Validation Epoch 24: 100%|██████████| 3/3 [00:00<00:00,  5.29batch/s, Loss=0.841]\n",
      "INFO:root:Epoch 25\n",
      "INFO:root:--------------------\n",
      "INFO:root:Epoch 25 - Validation Phase\n",
      "INFO:root:--------------------\n",
      "Validation Epoch 25: 100%|██████████| 3/3 [00:00<00:00,  5.30batch/s, Loss=0.841]\n",
      "INFO:root:Epoch 26\n",
      "INFO:root:--------------------\n",
      "INFO:root:Epoch 26 - Validation Phase\n",
      "INFO:root:--------------------\n",
      "Validation Epoch 26: 100%|██████████| 3/3 [00:00<00:00,  5.49batch/s, Loss=0.771]\n",
      "INFO:root:Epoch 27\n",
      "INFO:root:--------------------\n",
      "INFO:root:Epoch 27 - Validation Phase\n",
      "INFO:root:--------------------\n",
      "Validation Epoch 27: 100%|██████████| 3/3 [00:00<00:00,  5.11batch/s, Loss=0.781]\n",
      "INFO:root:Epoch 28\n",
      "INFO:root:--------------------\n",
      "INFO:root:Epoch 28 - Validation Phase\n",
      "INFO:root:--------------------\n",
      "Validation Epoch 28: 100%|██████████| 3/3 [00:00<00:00,  5.37batch/s, Loss=0.771]\n",
      "INFO:root:Epoch 29\n",
      "INFO:root:--------------------\n",
      "INFO:root:Epoch 29 - Validation Phase\n",
      "INFO:root:--------------------\n",
      "Validation Epoch 29: 100%|██████████| 3/3 [00:00<00:00,  5.54batch/s, Loss=0.771]\n",
      "INFO:root:Epoch 30\n",
      "INFO:root:--------------------\n",
      "INFO:root:Epoch 30 - Validation Phase\n",
      "INFO:root:--------------------\n",
      "Validation Epoch 30: 100%|██████████| 3/3 [00:00<00:00,  5.30batch/s, Loss=0.771]\n",
      "INFO:root:Epoch 31\n",
      "INFO:root:--------------------\n",
      "INFO:root:Epoch 31 - Validation Phase\n",
      "INFO:root:--------------------\n",
      "Validation Epoch 31: 100%|██████████| 3/3 [00:00<00:00,  5.40batch/s, Loss=0.841]\n",
      "INFO:root:Epoch 32\n",
      "INFO:root:--------------------\n",
      "INFO:root:Epoch 32 - Validation Phase\n",
      "INFO:root:--------------------\n",
      "Validation Epoch 32: 100%|██████████| 3/3 [00:00<00:00,  5.20batch/s, Loss=0.841]\n",
      "INFO:root:Epoch 33\n",
      "INFO:root:--------------------\n",
      "INFO:root:Epoch 33 - Validation Phase\n",
      "INFO:root:--------------------\n",
      "Validation Epoch 33: 100%|██████████| 3/3 [00:00<00:00,  5.04batch/s, Loss=0.78] \n",
      "INFO:root:Epoch 34\n",
      "INFO:root:--------------------\n",
      "INFO:root:Epoch 34 - Validation Phase\n",
      "INFO:root:--------------------\n",
      "Validation Epoch 34: 100%|██████████| 3/3 [00:00<00:00,  5.31batch/s, Loss=0.841]\n",
      "INFO:root:Epoch 35\n",
      "INFO:root:--------------------\n",
      "INFO:root:Epoch 35 - Validation Phase\n",
      "INFO:root:--------------------\n",
      "Validation Epoch 35: 100%|██████████| 3/3 [00:00<00:00,  4.91batch/s, Loss=0.771]\n",
      "INFO:root:Epoch 36\n",
      "INFO:root:--------------------\n",
      "INFO:root:Epoch 36 - Validation Phase\n",
      "INFO:root:--------------------\n",
      "Validation Epoch 36: 100%|██████████| 3/3 [00:00<00:00,  5.33batch/s, Loss=0.78] \n",
      "INFO:root:Epoch 37\n",
      "INFO:root:--------------------\n",
      "INFO:root:Epoch 37 - Validation Phase\n",
      "INFO:root:--------------------\n",
      "Validation Epoch 37: 100%|██████████| 3/3 [00:00<00:00,  5.33batch/s, Loss=0.84] \n",
      "INFO:root:Epoch 38\n",
      "INFO:root:--------------------\n",
      "INFO:root:Epoch 38 - Validation Phase\n",
      "INFO:root:--------------------\n",
      "Validation Epoch 38: 100%|██████████| 3/3 [00:00<00:00,  5.29batch/s, Loss=0.84] \n",
      "INFO:root:Epoch 39\n",
      "INFO:root:--------------------\n",
      "INFO:root:Epoch 39 - Validation Phase\n",
      "INFO:root:--------------------\n",
      "Validation Epoch 39: 100%|██████████| 3/3 [00:00<00:00,  5.65batch/s, Loss=0.771]\n",
      "INFO:root:Epoch 40\n",
      "INFO:root:--------------------\n",
      "INFO:root:Epoch 40 - Validation Phase\n",
      "INFO:root:--------------------\n",
      "Validation Epoch 40: 100%|██████████| 3/3 [00:00<00:00,  5.13batch/s, Loss=0.841]\n",
      "INFO:root:Epoch 41\n",
      "INFO:root:--------------------\n",
      "INFO:root:Epoch 41 - Validation Phase\n",
      "INFO:root:--------------------\n",
      "Validation Epoch 41: 100%|██████████| 3/3 [00:00<00:00,  4.91batch/s, Loss=0.77] \n",
      "INFO:root:Epoch 42\n",
      "INFO:root:--------------------\n",
      "INFO:root:Epoch 42 - Validation Phase\n",
      "INFO:root:--------------------\n",
      "Validation Epoch 42: 100%|██████████| 3/3 [00:00<00:00,  5.67batch/s, Loss=0.841]\n",
      "INFO:root:Epoch 43\n",
      "INFO:root:--------------------\n",
      "INFO:root:Epoch 43 - Validation Phase\n",
      "INFO:root:--------------------\n",
      "Validation Epoch 43: 100%|██████████| 3/3 [00:00<00:00,  5.29batch/s, Loss=0.78] \n",
      "INFO:root:Epoch 44\n",
      "INFO:root:--------------------\n",
      "INFO:root:Epoch 44 - Validation Phase\n",
      "INFO:root:--------------------\n",
      "Validation Epoch 44: 100%|██████████| 3/3 [00:00<00:00,  5.26batch/s, Loss=0.78] \n",
      "INFO:root:Epoch 45\n",
      "INFO:root:--------------------\n",
      "INFO:root:Epoch 45 - Validation Phase\n",
      "INFO:root:--------------------\n",
      "Validation Epoch 45: 100%|██████████| 3/3 [00:00<00:00,  5.40batch/s, Loss=0.77] \n",
      "INFO:root:Epoch 46\n",
      "INFO:root:--------------------\n",
      "INFO:root:Epoch 46 - Validation Phase\n",
      "INFO:root:--------------------\n",
      "Validation Epoch 46: 100%|██████████| 3/3 [00:00<00:00,  5.38batch/s, Loss=0.841]\n",
      "INFO:root:Epoch 47\n",
      "INFO:root:--------------------\n",
      "INFO:root:Epoch 47 - Validation Phase\n",
      "INFO:root:--------------------\n",
      "Validation Epoch 47: 100%|██████████| 3/3 [00:00<00:00,  5.87batch/s, Loss=0.77] \n",
      "INFO:root:Epoch 48\n",
      "INFO:root:--------------------\n",
      "INFO:root:Epoch 48 - Validation Phase\n",
      "INFO:root:--------------------\n",
      "Validation Epoch 48: 100%|██████████| 3/3 [00:00<00:00,  5.42batch/s, Loss=0.78] \n",
      "INFO:root:Epoch 49\n",
      "INFO:root:--------------------\n",
      "INFO:root:Epoch 49 - Validation Phase\n",
      "INFO:root:--------------------\n",
      "Validation Epoch 49: 100%|██████████| 3/3 [00:00<00:00,  5.35batch/s, Loss=0.84] \n",
      "INFO:root:Epoch 50\n",
      "INFO:root:--------------------\n",
      "INFO:root:Epoch 50 - Validation Phase\n",
      "INFO:root:--------------------\n",
      "Validation Epoch 50: 100%|██████████| 3/3 [00:00<00:00,  5.17batch/s, Loss=0.84] \n",
      "INFO:root:Total training time: 102.87 seconds\n"
     ]
    }
   ],
   "source": [
    "from training import train\n",
    "import torch.nn as nn\n",
    "import torch \n",
    "from metrics import iou_score, balanced_accuracy, f1_score\n",
    "from losses import DiceLoss\n",
    "import torch.optim as optim\n",
    "\n",
    "mode = \"multiclass\"\n",
    "criterion = DiceLoss(mode=mode)\n",
    "metrics = [f1_score, iou_score,  balanced_accuracy]\n",
    "class_weights = [1, 10, 20, 30, 40]\n",
    "\n",
    "optimizer = optim.AdamW(params=filter(lambda p: p.requires_grad, model.parameters()), lr=1e-4, weight_decay=1e-6)\n",
    "scheduler = optim.lr_scheduler.MultiStepLR(optimizer, milestones=[5, 11, 17, 25, 33, 47, 50, 60, 70, 90, 110, 130, 150, 170, 180, 190], gamma=0.5)\n",
    "\n",
    "train(\n",
    "    model = model,\n",
    "    train_dl = train_dl,\n",
    "    valid_dl = train_dl,\n",
    "    loss_fn = criterion,\n",
    "    optimizer = optimizer, \n",
    "    scheduler = scheduler, \n",
    "    metrics = metrics,\n",
    "    nb_epochs = 50,\n",
    "    experiment_name = \"Test\",\n",
    "    log_dir=\"../runs\",\n",
    "    model_dir=\"../models\",\n",
    "    resume_path=None,\n",
    "    early_stopping_params = None,\n",
    "    image_key = \"post_image\",\n",
    "    mask_key = \"post_mask\",\n",
    "    num_classes = 5, \n",
    "    verbose= False,  # Adding verbose flag\n",
    "    checkpoint_interval = 10,  # Add checkpoint interval parameter\n",
    "    debug = False,  # Add debug flag for memory logging, \n",
    "    training_log_interval = 1, \n",
    "    is_mixed_precision=True,\n",
    "    reduction= \"weighted\",\n",
    "    class_weights = class_weights,\n",
    "    siamese = True\n",
    ")"
   ]
  },
  {
   "cell_type": "code",
   "execution_count": 21,
   "metadata": {},
   "outputs": [
    {
     "ename": "AttributeError",
     "evalue": "'tuple' object has no attribute 'shape'",
     "output_type": "error",
     "traceback": [
      "\u001b[1;31m---------------------------------------------------------------------------\u001b[0m",
      "\u001b[1;31mAttributeError\u001b[0m                            Traceback (most recent call last)",
      "Cell \u001b[1;32mIn[21], line 3\u001b[0m\n\u001b[0;32m      1\u001b[0m t \u001b[38;5;241m=\u001b[39m torch\u001b[38;5;241m.\u001b[39mrandn(size\u001b[38;5;241m=\u001b[39m(\u001b[38;5;241m1\u001b[39m,\u001b[38;5;241m512\u001b[39m,\u001b[38;5;241m512\u001b[39m))\n\u001b[0;32m      2\u001b[0m binary_mask \u001b[38;5;241m=\u001b[39m torch\u001b[38;5;241m.\u001b[39mwhere(t \u001b[38;5;241m>\u001b[39m \u001b[38;5;241m0\u001b[39m )\n\u001b[1;32m----> 3\u001b[0m \u001b[43mbinary_mask\u001b[49m\u001b[38;5;241;43m.\u001b[39;49m\u001b[43mshape\u001b[49m()\n",
      "\u001b[1;31mAttributeError\u001b[0m: 'tuple' object has no attribute 'shape'"
     ]
    }
   ],
   "source": [
    "t = torch.randn(size=(1,512,512))\n",
    "binary_mask = torch.where(t > 0 )\n",
    "binary_mask.shape()"
   ]
  },
  {
   "cell_type": "markdown",
   "metadata": {},
   "source": [
    "### Test New Models "
   ]
  },
  {
   "cell_type": "code",
   "execution_count": 3,
   "metadata": {},
   "outputs": [
    {
     "name": "stderr",
     "output_type": "stream",
     "text": [
      "Some weights of SegformerForSemanticSegmentation were not initialized from the model checkpoint at nvidia/segformer-b0-finetuned-ade-512-512 and are newly initialized because the shapes did not match:\n",
      "- decode_head.classifier.bias: found shape torch.Size([150]) in the checkpoint and torch.Size([2]) in the model instantiated\n",
      "- decode_head.classifier.weight: found shape torch.Size([150, 256, 1, 1]) in the checkpoint and torch.Size([2, 256, 1, 1]) in the model instantiated\n",
      "You should probably TRAIN this model on a down-stream task to be able to use it for predictions and inference.\n"
     ]
    },
    {
     "name": "stdout",
     "output_type": "stream",
     "text": [
      "Encoder weights have been frozen.\n"
     ]
    }
   ],
   "source": [
    "from models import Segformer, Unet, ResNet_Unet\n",
    "model_name = \"nvidia/segformer-b0-finetuned-ade-512-512\"\n",
    "label2id = {\"building\": 1, \"background\": 0 } #{\"cloud\": 1, \"no_cloud\": 0 }\n",
    "id2label = {v: k for k,v in label2id.items()}\n",
    "num_labels = 2\n",
    "freeze_encoder = True\n",
    "\n",
    "model = Segformer(model_name=model_name,\n",
    "                  label2id=label2id,\n",
    "                  num_labels=num_labels,\n",
    "                  freeze_encoder=freeze_encoder\n",
    "                  )"
   ]
  },
  {
   "cell_type": "code",
   "execution_count": 50,
   "metadata": {},
   "outputs": [],
   "source": [
    "from datasets import  Puerto_Rico_Building_Dataset\n",
    "from torch.utils.data import DataLoader\n",
    "import albumentations as A\n",
    "from albumentations.pytorch import ToTensorV2\n",
    "from training.augmentations import get_val_augmentation_pipeline\n",
    "\n",
    "# Define Albumentations transforms with normalization\n",
    "transform = get_val_augmentation_pipeline(image_size=(512, 512), max_pixel_value=1, mean=(0,0,0), std=(1,1,1))"
   ]
  },
  {
   "cell_type": "markdown",
   "metadata": {},
   "source": [
    "### Test Dataset "
   ]
  },
  {
   "cell_type": "code",
   "execution_count": 51,
   "metadata": {},
   "outputs": [],
   "source": [
    "from models import AutoEncoder\n",
    "from training.augmentations import get_val_augmentation_pipeline\n",
    "import torch.nn as nn\n",
    "\n",
    "cloud_filter_params = {\"model_class\": AutoEncoder(num_input_channel=3,base_channel_size=64), \n",
    "                        \"device\": \"cuda\", \n",
    "                        \"file_path\": \"../models/AutoEncoder_Cloud_Detector_0.001297.pth\",\n",
    "                        \"threshold\": 0.001297, \n",
    "                        \"loss\": nn.MSELoss,\n",
    "                        \"batch_size\": 32\n",
    "                        }"
   ]
  },
  {
   "cell_type": "code",
   "execution_count": 72,
   "metadata": {},
   "outputs": [
    {
     "name": "stdout",
     "output_type": "stream",
     "text": [
      "<class 'models.Auto_Encoder.AutoEncoder'> Model loaded from ../models/AutoEncoder_Cloud_Detector_0.001297.pth\n",
      "A AutoEncoder model has been loaded from ../models/AutoEncoder_Cloud_Detector_0.001297.pth on cuda.\n"
     ]
    }
   ],
   "source": [
    "data_puerto = Puerto_Rico_Building_Dataset(\n",
    "    base_dir=\"../data/Puerto_Rico_dataset/tiff_tiles\",\n",
    "    pre_disaster_dir=\"Pre_Event_Grids_In_TIFF\",\n",
    "    post_disaster_dir=\"Post_Event_Grids_In_TIFF\",\n",
    "    mask_dir=\"Post_Event_Grids_In_TIFF_mask\",\n",
    "    transform=transform,\n",
    "    extension=\"tif\",\n",
    "    cloud_filter_params=cloud_filter_params,\n",
    "    preprocessing_mode=\"online\",\n",
    "    filtered_list_path=None\n",
    "    )"
   ]
  },
  {
   "cell_type": "code",
   "execution_count": 100,
   "metadata": {},
   "outputs": [
    {
     "name": "stdout",
     "output_type": "stream",
     "text": [
      "ResNet_UNET Model loaded from ../models/xDB_ResNet18_Unet_20241130-201241_best_model.pth\n"
     ]
    },
    {
     "name": "stderr",
     "output_type": "stream",
     "text": [
      "/home/onyxia/work/damaged-building-detector/src/models/ResNet_Unet.py:157: FutureWarning: You are using `torch.load` with `weights_only=False` (the current default value), which uses the default pickle module implicitly. It is possible to construct malicious pickle data which will execute arbitrary code during unpickling (See https://github.com/pytorch/pytorch/blob/main/SECURITY.md#untrusted-models for more details). In a future release, the default value for `weights_only` will be flipped to `True`. This limits the functions that could be executed during unpickling. Arbitrary objects will no longer be allowed to be loaded via this mode unless they are explicitly allowlisted by the user via `torch.serialization.add_safe_globals`. We recommend you start setting `weights_only=True` for any use case where you don't have full control of the loaded file. Please open an issue on GitHub for any issues related to this experimental feature.\n",
      "  self.load_state_dict(torch.load(file_path))\n"
     ]
    }
   ],
   "source": [
    "from models import ResNet_UNET\n",
    "\n",
    "model = ResNet_UNET(\n",
    "        in_channels=3,\n",
    "        out_channels=2,\n",
    "        backbone_name=\"resnet18\",\n",
    "        pretrained=True,\n",
    "        freeze_backbone=True,\n",
    "    )\n",
    "model = model.load(file_path=\"../models/xDB_ResNet18_Unet_20241130-201241_best_model.pth\").to(\"cuda\")"
   ]
  },
  {
   "cell_type": "code",
   "execution_count": 101,
   "metadata": {},
   "outputs": [],
   "source": [
    "data_dl = DataLoader(dataset=data_puerto, batch_size=16, shuffle=True)"
   ]
  },
  {
   "cell_type": "code",
   "execution_count": 102,
   "metadata": {},
   "outputs": [],
   "source": [
    "inputs = next(iter(data_dl))\n",
    "outputs = model.predict(inputs[\"pre_image\"].to(\"cuda\"))"
   ]
  },
  {
   "cell_type": "code",
   "execution_count": null,
   "metadata": {},
   "outputs": [],
   "source": [
    "from utils import display_semantic_predictions_batch\n",
    "\n",
    "display_semantic_predictions_batch(images=inputs[\"pre_image\"], \n",
    "                                    mask_predictions=outputs,\n",
    "                                    mask_labels=inputs[\"mask\"], \n",
    "                                    normalized=None, \n",
    "                                    folder_path=None\n",
    "                                    )"
   ]
  },
  {
   "cell_type": "code",
   "execution_count": 105,
   "metadata": {},
   "outputs": [
    {
     "name": "stdout",
     "output_type": "stream",
     "text": [
      "Model loaded from ../models/xDB_ResNet50_MaskRCNN_checkpoint.pth\n"
     ]
    }
   ],
   "source": [
    "from models import Maskrcnn\n",
    "# Initialize the Mask R-CNN model\n",
    "from models import Maskrcnn\n",
    "maskrcnn = Maskrcnn(num_classes=2, hidden_layer_dim=256, pretrained=False)\n",
    "maskrcnn.load(\"../models/xDB_ResNet50_MaskRCNN_checkpoint.pth\")"
   ]
  },
  {
   "cell_type": "code",
   "execution_count": null,
   "metadata": {},
   "outputs": [],
   "source": [
    "from utils import display_semantic_predictions_batch\n",
    "import numpy as np\n",
    "import torch\n",
    "maskrcnn.eval()\n",
    "with torch.no_grad():\n",
    "    images = inputs[\"pre_image\"].to(\"cuda\")\n",
    "    mask_predictions = maskrcnn.predict_sem_seg(images = images)"
   ]
  },
  {
   "cell_type": "code",
   "execution_count": null,
   "metadata": {},
   "outputs": [],
   "source": [
    "display_semantic_predictions_batch(images=inputs[\"pre_image\"], \n",
    "                                    mask_predictions=mask_predictions,\n",
    "                                    mask_labels=inputs[\"mask\"], \n",
    "                                    normalized=None, \n",
    "                                    folder_path=None\n",
    "                                    )"
   ]
  },
  {
   "cell_type": "code",
   "execution_count": null,
   "metadata": {},
   "outputs": [],
   "source": [
    "from utils import display_instance_predictions_batch\n",
    "maskrcnn.eval()\n",
    "with torch.no_grad():\n",
    "    images = inputs[\"pre_image\"].to(\"cuda\")\n",
    "    instances_predictions = maskrcnn.predict(images = images)\n",
    "    \n",
    "display_instance_predictions_batch(images, mask_predictions, score_threshold=0.6, max_images=len(images), display=[\"mask\",\"boxes\"])"
   ]
  },
  {
   "cell_type": "code",
   "execution_count": null,
   "metadata": {},
   "outputs": [],
   "source": []
  }
 ],
 "metadata": {
  "kernelspec": {
   "display_name": "pytorch-gpu",
   "language": "python",
   "name": "python3"
  },
  "language_info": {
   "codemirror_mode": {
    "name": "ipython",
    "version": 3
   },
   "file_extension": ".py",
   "mimetype": "text/x-python",
   "name": "python",
   "nbconvert_exporter": "python",
   "pygments_lexer": "ipython3",
   "version": "3.12.7"
  }
 },
 "nbformat": 4,
 "nbformat_minor": 2
}
