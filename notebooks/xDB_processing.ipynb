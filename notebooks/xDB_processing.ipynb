{
 "cells": [
  {
   "cell_type": "markdown",
   "metadata": {},
   "source": [
    "# xDB Training"
   ]
  },
  {
   "cell_type": "markdown",
   "metadata": {},
   "source": [
    "A notebook exploring the xDB dataset tier3 part for Building Segmentation Model and Damaged Classification Model"
   ]
  },
  {
   "cell_type": "code",
   "execution_count": 187,
   "metadata": {},
   "outputs": [
    {
     "name": "stdout",
     "output_type": "stream",
     "text": [
      "The autoreload extension is already loaded. To reload it, use:\n",
      "  %reload_ext autoreload\n"
     ]
    }
   ],
   "source": [
    "# In a Jupyter notebook or IPython environment, run this in the first cell\n",
    "%load_ext autoreload\n",
    "%autoreload 2"
   ]
  },
  {
   "cell_type": "code",
   "execution_count": 188,
   "metadata": {},
   "outputs": [],
   "source": [
    "import sys\n",
    "import os\n",
    "sys.path.append(os.path.abspath('../src'))"
   ]
  },
  {
   "cell_type": "code",
   "execution_count": null,
   "metadata": {},
   "outputs": [],
   "source": [
    "import albumentations as A\n",
    "from albumentations.pytorch import ToTensorV2\n",
    "# Define the transformation pipeline\n",
    "def get_train_augmentation_pipeline(image_size=(256, 256)):\n",
    "    transform = A.Compose([\n",
    "        # Resize images and masks\n",
    "        A.Resize(image_size[0], image_size[1], p=1.0),  # Ensure both image and mask are resized\n",
    "        # Random horizontal flip\n",
    "        A.HorizontalFlip(p=0.5),\n",
    "        # Random vertical flip\n",
    "        A.VerticalFlip(p=0.5),\n",
    "        # Random rotation\n",
    "        A.RandomRotate90(p=0.5),\n",
    "        # Random brightness and contrast adjustments\n",
    "        A.RandomBrightnessContrast(p=0.2),\n",
    "        # Random contrast adjustment\n",
    "        A.RandomGamma(p=0.2),\n",
    "        # Random scale and aspect ratio change\n",
    "        A.RandomSizedCrop(min_max_height=(image_size[0], image_size[1]), height=image_size[0], width=image_size[1], p=0.5),\n",
    "        # Random blur\n",
    "        A.GaussianBlur(p=0.2),\n",
    "        # Random saturation adjustment\n",
    "        A.HueSaturationValue(hue_shift_limit=20, sat_shift_limit=30, val_shift_limit=20, p=0.2),\n",
    "        # Random crop (if you want to focus on specific regions)\n",
    "        A.CenterCrop(height=image_size[0], width=image_size[1], p=1.0),\n",
    "        # Convert to tensor (works for both image and mask)\n",
    "        ToTensorV2()\n",
    "    ])\n",
    "    return transform\n",
    "\n",
    "def get_val_augmentation_pipeline(image_size=(256, 256)):\n",
    "    transform = A.Compose([\n",
    "        # Resize images and masks\n",
    "        A.Resize(image_size[0], image_size[1], p=1.0),  # Ensure both image and mask are resized\n",
    "        # Random horizontal flip\n",
    "        A.HorizontalFlip(p=0.5),\n",
    "        # Random vertical flip\n",
    "        A.VerticalFlip(p=0.5),\n",
    "        # Random rotation\n",
    "        A.RandomRotate90(p=0.5),\n",
    "        # Random contrast adjustment\n",
    "        ToTensorV2()\n",
    "    ])\n",
    "    return transform"
   ]
  },
  {
   "cell_type": "code",
   "execution_count": null,
   "metadata": {},
   "outputs": [
    {
     "name": "stdout",
     "output_type": "stream",
     "text": [
      "Loaded 5097 train labels.\n"
     ]
    }
   ],
   "source": [
    "from datasets import xDB_Damaged_Building\n",
    "\n",
    "data_train  = xDB_Damaged_Building(\n",
    "    origin_dir = \"../data/xDB/tier3\",\n",
    "    mode=\"building\",\n",
    "    time=\"pre\",\n",
    "    transform=None,\n",
    "    type=\"train\"\n",
    ")\n"
   ]
  },
  {
   "cell_type": "code",
   "execution_count": null,
   "metadata": {},
   "outputs": [],
   "source": []
  }
 ],
 "metadata": {
  "kernelspec": {
   "display_name": "pytorch-gpu",
   "language": "python",
   "name": "python3"
  },
  "language_info": {
   "codemirror_mode": {
    "name": "ipython",
    "version": 3
   },
   "file_extension": ".py",
   "mimetype": "text/x-python",
   "name": "python",
   "nbconvert_exporter": "python",
   "pygments_lexer": "ipython3",
   "version": "3.12.7"
  }
 },
 "nbformat": 4,
 "nbformat_minor": 2
}
